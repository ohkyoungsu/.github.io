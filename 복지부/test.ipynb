{
 "cells": [
  {
   "cell_type": "code",
   "execution_count": 2,
   "metadata": {},
   "outputs": [],
   "source": [
    "import pandas as pd\n",
    "import hashlib"
   ]
  },
  {
   "cell_type": "code",
   "execution_count": 3,
   "metadata": {},
   "outputs": [],
   "source": [
    "#주요 상수값\n",
    "salt = \"MOHW20200925\"\n",
    "DELIMITER = ','\n",
    "N = 7000000\n",
    "MATCH = 0.328489271621  "
   ]
  },
  {
   "cell_type": "markdown",
   "metadata": {},
   "source": [
    "#### 두 기관의 데이터를 불러옵니다."
   ]
  },
  {
   "cell_type": "code",
   "execution_count": 4,
   "metadata": {
    "scrolled": true
   },
   "outputs": [
    {
     "data": {
      "text/html": [
       "<div>\n",
       "<style scoped>\n",
       "    .dataframe tbody tr th:only-of-type {\n",
       "        vertical-align: middle;\n",
       "    }\n",
       "\n",
       "    .dataframe tbody tr th {\n",
       "        vertical-align: top;\n",
       "    }\n",
       "\n",
       "    .dataframe thead th {\n",
       "        text-align: right;\n",
       "    }\n",
       "</style>\n",
       "<table border=\"1\" class=\"dataframe\">\n",
       "  <thead>\n",
       "    <tr style=\"text-align: right;\">\n",
       "      <th></th>\n",
       "      <th>field</th>\n",
       "      <th>A0</th>\n",
       "      <th>A1</th>\n",
       "      <th>A2</th>\n",
       "      <th>A3</th>\n",
       "    </tr>\n",
       "    <tr>\n",
       "      <th>num</th>\n",
       "      <th></th>\n",
       "      <th></th>\n",
       "      <th></th>\n",
       "      <th></th>\n",
       "      <th></th>\n",
       "    </tr>\n",
       "  </thead>\n",
       "  <tbody>\n",
       "    <tr>\n",
       "      <th>A001</th>\n",
       "      <td>33</td>\n",
       "      <td>2</td>\n",
       "      <td>15</td>\n",
       "      <td>5</td>\n",
       "      <td>65</td>\n",
       "    </tr>\n",
       "    <tr>\n",
       "      <th>A002</th>\n",
       "      <td>2</td>\n",
       "      <td>23</td>\n",
       "      <td>2</td>\n",
       "      <td>6</td>\n",
       "      <td>8</td>\n",
       "    </tr>\n",
       "    <tr>\n",
       "      <th>A003</th>\n",
       "      <td>11</td>\n",
       "      <td>7</td>\n",
       "      <td>44</td>\n",
       "      <td>2</td>\n",
       "      <td>7</td>\n",
       "    </tr>\n",
       "  </tbody>\n",
       "</table>\n",
       "</div>"
      ],
      "text/plain": [
       "      field  A0  A1  A2  A3\n",
       "num                        \n",
       "A001     33   2  15   5  65\n",
       "A002      2  23   2   6   8\n",
       "A003     11   7  44   2   7"
      ]
     },
     "execution_count": 4,
     "metadata": {},
     "output_type": "execute_result"
    }
   ],
   "source": [
    "A_dataset = pd.read_csv(\"A_dataset.csv\", encoding=\"cp949\")\n",
    "A_dataset.set_index('num')"
   ]
  },
  {
   "cell_type": "code",
   "execution_count": 5,
   "metadata": {},
   "outputs": [
    {
     "data": {
      "text/html": [
       "<div>\n",
       "<style scoped>\n",
       "    .dataframe tbody tr th:only-of-type {\n",
       "        vertical-align: middle;\n",
       "    }\n",
       "\n",
       "    .dataframe tbody tr th {\n",
       "        vertical-align: top;\n",
       "    }\n",
       "\n",
       "    .dataframe thead th {\n",
       "        text-align: right;\n",
       "    }\n",
       "</style>\n",
       "<table border=\"1\" class=\"dataframe\">\n",
       "  <thead>\n",
       "    <tr style=\"text-align: right;\">\n",
       "      <th></th>\n",
       "      <th>field</th>\n",
       "      <th>B0</th>\n",
       "      <th>B1</th>\n",
       "      <th>B2</th>\n",
       "      <th>B3</th>\n",
       "    </tr>\n",
       "    <tr>\n",
       "      <th>num</th>\n",
       "      <th></th>\n",
       "      <th></th>\n",
       "      <th></th>\n",
       "      <th></th>\n",
       "      <th></th>\n",
       "    </tr>\n",
       "  </thead>\n",
       "  <tbody>\n",
       "    <tr>\n",
       "      <th>B01</th>\n",
       "      <td>2</td>\n",
       "      <td>3</td>\n",
       "      <td>15</td>\n",
       "      <td>45</td>\n",
       "      <td>4</td>\n",
       "    </tr>\n",
       "    <tr>\n",
       "      <th>B02</th>\n",
       "      <td>33</td>\n",
       "      <td>6</td>\n",
       "      <td>4</td>\n",
       "      <td>43</td>\n",
       "      <td>2</td>\n",
       "    </tr>\n",
       "    <tr>\n",
       "      <th>B03</th>\n",
       "      <td>11</td>\n",
       "      <td>9</td>\n",
       "      <td>7</td>\n",
       "      <td>32</td>\n",
       "      <td>34</td>\n",
       "    </tr>\n",
       "  </tbody>\n",
       "</table>\n",
       "</div>"
      ],
      "text/plain": [
       "     field  B0  B1  B2  B3\n",
       "num                       \n",
       "B01      2   3  15  45   4\n",
       "B02     33   6   4  43   2\n",
       "B03     11   9   7  32  34"
      ]
     },
     "execution_count": 5,
     "metadata": {},
     "output_type": "execute_result"
    }
   ],
   "source": [
    "B_dataset = pd.read_csv(\"B_dataset.csv\", encoding=\"UTF-8\")\n",
    "B_dataset.set_index('num')"
   ]
  },
  {
   "cell_type": "markdown",
   "metadata": {},
   "source": [
    "#### 데이터 내의 Field 값을 기반으로 sha256으로 암호화 후 저장.\n",
    "sha256 + salt 방식으로 암호화함"
   ]
  },
  {
   "cell_type": "code",
   "execution_count": 6,
   "metadata": {},
   "outputs": [],
   "source": [
    "A_dataset['key'] = B_dataset['field'].apply(lambda x : hashlib.sha256(salt.encode() + x.to_bytes(4, byteorder=\"little\")).hexdigest())\n",
    "\n",
    "#테스트용 ALL data 저장 (테스트용)\n",
    "A_dataset.to_csv(\"./ALL/A_dataset_ALL.csv\") \n",
    "\n",
    "#결합키 + 일련번호 -> 결합키전문기관\n",
    "#A_dataset[['key','num']].to_csv(\"./ALL/A_dataset_key.csv\") \n",
    "\n",
    "#PHI인 Field제외하고 저장 -> 결합전문기관으로 \n",
    "A_dataset[A_dataset.columns.difference(['field','key'])].to_csv(\"./ALL/A_dataset_table.csv\", index=False) "
   ]
  },
  {
   "cell_type": "code",
   "execution_count": 7,
   "metadata": {},
   "outputs": [],
   "source": [
    "B_dataset['key'] = B_dataset['field'].apply(lambda x : hashlib.sha256(salt.encode() + x.to_bytes(4, byteorder=\"little\")).hexdigest())\n",
    "\n",
    "#테스트용 ALL data 저장 (테스트용)\n",
    "B_dataset.to_csv(\"./ALL/B_dataset_ALL.csv\")\n",
    "\n",
    "#결합키 + 일련번호 -> 결합키전문기관\n",
    "#B_dataset[['key','num']].to_csv(\"./ALL/B_dataset_key.csv\") \n",
    "\n",
    "#PHI인 Field제외하고 저장\n",
    "B_dataset[B_dataset.columns.difference(['field','key'])].to_csv(\"./ALL/B_dataset_table.csv\", index=False)"
   ]
  },
  {
   "cell_type": "code",
   "execution_count": 8,
   "metadata": {},
   "outputs": [],
   "source": [
    "#결합키 관리기관 -> 결합 키를 기반으로 index 값을 가져옴.\n",
    "key_idx = pd.merge(A_dataset[['key','num']], B_dataset[['key','num']], left_on='key', right_on='key', how='left')\n",
    "\n",
    "key_idx[key_idx.columns.difference(['key'])].to_csv(\"./ALL/index.csv\", index=False)\n"
   ]
  },
  {
   "cell_type": "markdown",
   "metadata": {},
   "source": [
    "#### HASH키 기반으로 두 데이터 결합하기"
   ]
  },
  {
   "cell_type": "code",
   "execution_count": 9,
   "metadata": {},
   "outputs": [],
   "source": [
    "#데이터 가져오기\n",
    "index = pd.read_csv(\"./ALL/index.csv\")\n",
    "\n",
    "A_dataset_table = pd.read_csv(\"./ALL/A_dataset_table.csv\")\n",
    "B_dataset_table = pd.read_csv(\"./ALL/B_dataset_table.csv\")"
   ]
  },
  {
   "cell_type": "code",
   "execution_count": 10,
   "metadata": {
    "scrolled": true
   },
   "outputs": [
    {
     "data": {
      "text/html": [
       "<div>\n",
       "<style scoped>\n",
       "    .dataframe tbody tr th:only-of-type {\n",
       "        vertical-align: middle;\n",
       "    }\n",
       "\n",
       "    .dataframe tbody tr th {\n",
       "        vertical-align: top;\n",
       "    }\n",
       "\n",
       "    .dataframe thead th {\n",
       "        text-align: right;\n",
       "    }\n",
       "</style>\n",
       "<table border=\"1\" class=\"dataframe\">\n",
       "  <thead>\n",
       "    <tr style=\"text-align: right;\">\n",
       "      <th></th>\n",
       "      <th>num_x</th>\n",
       "      <th>num_y</th>\n",
       "    </tr>\n",
       "  </thead>\n",
       "  <tbody>\n",
       "    <tr>\n",
       "      <th>0</th>\n",
       "      <td>A001</td>\n",
       "      <td>B01</td>\n",
       "    </tr>\n",
       "    <tr>\n",
       "      <th>1</th>\n",
       "      <td>A002</td>\n",
       "      <td>B02</td>\n",
       "    </tr>\n",
       "    <tr>\n",
       "      <th>2</th>\n",
       "      <td>A003</td>\n",
       "      <td>B03</td>\n",
       "    </tr>\n",
       "  </tbody>\n",
       "</table>\n",
       "</div>"
      ],
      "text/plain": [
       "  num_x num_y\n",
       "0  A001   B01\n",
       "1  A002   B02\n",
       "2  A003   B03"
      ]
     },
     "execution_count": 10,
     "metadata": {},
     "output_type": "execute_result"
    }
   ],
   "source": [
    "index #결합전문기관에서 수신하는 데이터"
   ]
  },
  {
   "cell_type": "code",
   "execution_count": 16,
   "metadata": {},
   "outputs": [],
   "source": [
    "join = pd.merge(index, A_dataset_table, left_on='num_x', right_on=\"num\", how='left')"
   ]
  },
  {
   "cell_type": "code",
   "execution_count": 17,
   "metadata": {},
   "outputs": [],
   "source": [
    "test = pd.merge(join, B_dataset_table, left_on=\"num_y\", right_on=\"num\", how='left')"
   ]
  },
  {
   "cell_type": "code",
   "execution_count": 18,
   "metadata": {},
   "outputs": [
    {
     "data": {
      "text/html": [
       "<div>\n",
       "<style scoped>\n",
       "    .dataframe tbody tr th:only-of-type {\n",
       "        vertical-align: middle;\n",
       "    }\n",
       "\n",
       "    .dataframe tbody tr th {\n",
       "        vertical-align: top;\n",
       "    }\n",
       "\n",
       "    .dataframe thead th {\n",
       "        text-align: right;\n",
       "    }\n",
       "</style>\n",
       "<table border=\"1\" class=\"dataframe\">\n",
       "  <thead>\n",
       "    <tr style=\"text-align: right;\">\n",
       "      <th></th>\n",
       "      <th>num_x</th>\n",
       "      <th>num_y</th>\n",
       "      <th>A0</th>\n",
       "      <th>A1</th>\n",
       "      <th>A2</th>\n",
       "      <th>A3</th>\n",
       "      <th>num_x</th>\n",
       "      <th>B0</th>\n",
       "      <th>B1</th>\n",
       "      <th>B2</th>\n",
       "      <th>B3</th>\n",
       "      <th>num_y</th>\n",
       "    </tr>\n",
       "  </thead>\n",
       "  <tbody>\n",
       "    <tr>\n",
       "      <th>0</th>\n",
       "      <td>A001</td>\n",
       "      <td>B01</td>\n",
       "      <td>2</td>\n",
       "      <td>15</td>\n",
       "      <td>5</td>\n",
       "      <td>65</td>\n",
       "      <td>A001</td>\n",
       "      <td>3</td>\n",
       "      <td>15</td>\n",
       "      <td>45</td>\n",
       "      <td>4</td>\n",
       "      <td>B01</td>\n",
       "    </tr>\n",
       "    <tr>\n",
       "      <th>1</th>\n",
       "      <td>A002</td>\n",
       "      <td>B02</td>\n",
       "      <td>23</td>\n",
       "      <td>2</td>\n",
       "      <td>6</td>\n",
       "      <td>8</td>\n",
       "      <td>A002</td>\n",
       "      <td>6</td>\n",
       "      <td>4</td>\n",
       "      <td>43</td>\n",
       "      <td>2</td>\n",
       "      <td>B02</td>\n",
       "    </tr>\n",
       "    <tr>\n",
       "      <th>2</th>\n",
       "      <td>A003</td>\n",
       "      <td>B03</td>\n",
       "      <td>7</td>\n",
       "      <td>44</td>\n",
       "      <td>2</td>\n",
       "      <td>7</td>\n",
       "      <td>A003</td>\n",
       "      <td>9</td>\n",
       "      <td>7</td>\n",
       "      <td>32</td>\n",
       "      <td>34</td>\n",
       "      <td>B03</td>\n",
       "    </tr>\n",
       "  </tbody>\n",
       "</table>\n",
       "</div>"
      ],
      "text/plain": [
       "  num_x num_y  A0  A1  A2  A3 num_x  B0  B1  B2  B3 num_y\n",
       "0  A001   B01   2  15   5  65  A001   3  15  45   4   B01\n",
       "1  A002   B02  23   2   6   8  A002   6   4  43   2   B02\n",
       "2  A003   B03   7  44   2   7  A003   9   7  32  34   B03"
      ]
     },
     "execution_count": 18,
     "metadata": {},
     "output_type": "execute_result"
    }
   ],
   "source": [
    "test"
   ]
  },
  {
   "cell_type": "code",
   "execution_count": 19,
   "metadata": {
    "scrolled": true
   },
   "outputs": [],
   "source": [
    "test1 = test.iloc[:,:6]"
   ]
  },
  {
   "cell_type": "code",
   "execution_count": 20,
   "metadata": {},
   "outputs": [],
   "source": [
    "test2 = test.iloc[:,7:-1]"
   ]
  },
  {
   "cell_type": "code",
   "execution_count": 21,
   "metadata": {},
   "outputs": [],
   "source": [
    "test3 = pd.concat([test1, test2], axis=1)"
   ]
  },
  {
   "cell_type": "code",
   "execution_count": 22,
   "metadata": {},
   "outputs": [],
   "source": [
    "#결합률 return\n",
    "def comgLen(dfA, dfB, dfC):\n",
    "    total = len(dfA) + len(dfB)\n",
    "    comb = len(dfC)\n",
    "    return comb / total"
   ]
  },
  {
   "cell_type": "code",
   "execution_count": 23,
   "metadata": {
    "scrolled": true
   },
   "outputs": [
    {
     "data": {
      "text/plain": [
       "0.5"
      ]
     },
     "execution_count": 23,
     "metadata": {},
     "output_type": "execute_result"
    }
   ],
   "source": [
    "comgLen(A_dataset_table, B_dataset_table, test)"
   ]
  },
  {
   "cell_type": "code",
   "execution_count": 24,
   "metadata": {},
   "outputs": [],
   "source": [
    "#수치형 자료의 기술 통계만 추출\n",
    "def static_num(df):\n",
    "    static = pd.DataFrame(columns = [\"기초통계\", \"평균\", \"표준편차\", \"최소\", \"최대\", \"왜도\", \"첨도\"])\n",
    "    #변수의 값들이 숫자인 것들만 뽑아냄\n",
    "    cols = df.select_dtypes(include=\"number\").columns\n",
    "    #통계 추출\n",
    "    static[\"기초통계\"] = cols\n",
    "    for col in static[\"기초통계\"]:\n",
    "        static[\"평균\"][static[\"기초통계\"] == col] = df[col].mean()\n",
    "        static[\"표준편차\"][static[\"기초통계\"] == col] = df[col].std()\n",
    "        static[\"최소\"][static[\"기초통계\"] == col] = df[col].min()\n",
    "        static[\"최대\"][static[\"기초통계\"] == col] = df[col].max()\n",
    "        static[\"왜도\"][static[\"기초통계\"] == col] = df[col].skew()\n",
    "        static[\"첨도\"][static[\"기초통계\"] == col] = df[col].kurtosis()\n",
    "    return static"
   ]
  },
  {
   "cell_type": "code",
   "execution_count": 25,
   "metadata": {
    "scrolled": true
   },
   "outputs": [
    {
     "data": {
      "text/html": [
       "<div>\n",
       "<style scoped>\n",
       "    .dataframe tbody tr th:only-of-type {\n",
       "        vertical-align: middle;\n",
       "    }\n",
       "\n",
       "    .dataframe tbody tr th {\n",
       "        vertical-align: top;\n",
       "    }\n",
       "\n",
       "    .dataframe thead th {\n",
       "        text-align: right;\n",
       "    }\n",
       "</style>\n",
       "<table border=\"1\" class=\"dataframe\">\n",
       "  <thead>\n",
       "    <tr style=\"text-align: right;\">\n",
       "      <th></th>\n",
       "      <th>기초통계</th>\n",
       "      <th>평균</th>\n",
       "      <th>표준편차</th>\n",
       "      <th>최소</th>\n",
       "      <th>최대</th>\n",
       "      <th>왜도</th>\n",
       "      <th>첨도</th>\n",
       "    </tr>\n",
       "  </thead>\n",
       "  <tbody>\n",
       "    <tr>\n",
       "      <th>0</th>\n",
       "      <td>A0</td>\n",
       "      <td>10.6667</td>\n",
       "      <td>10.9697</td>\n",
       "      <td>2</td>\n",
       "      <td>23</td>\n",
       "      <td>1.3361</td>\n",
       "      <td>NaN</td>\n",
       "    </tr>\n",
       "    <tr>\n",
       "      <th>1</th>\n",
       "      <td>A1</td>\n",
       "      <td>20.3333</td>\n",
       "      <td>21.5019</td>\n",
       "      <td>2</td>\n",
       "      <td>44</td>\n",
       "      <td>1.04751</td>\n",
       "      <td>NaN</td>\n",
       "    </tr>\n",
       "    <tr>\n",
       "      <th>2</th>\n",
       "      <td>A2</td>\n",
       "      <td>4.33333</td>\n",
       "      <td>2.08167</td>\n",
       "      <td>2</td>\n",
       "      <td>6</td>\n",
       "      <td>-1.29334</td>\n",
       "      <td>NaN</td>\n",
       "    </tr>\n",
       "    <tr>\n",
       "      <th>3</th>\n",
       "      <td>A3</td>\n",
       "      <td>26.6667</td>\n",
       "      <td>33.2014</td>\n",
       "      <td>7</td>\n",
       "      <td>65</td>\n",
       "      <td>1.73028</td>\n",
       "      <td>NaN</td>\n",
       "    </tr>\n",
       "    <tr>\n",
       "      <th>4</th>\n",
       "      <td>B0</td>\n",
       "      <td>6</td>\n",
       "      <td>3</td>\n",
       "      <td>3</td>\n",
       "      <td>9</td>\n",
       "      <td>0</td>\n",
       "      <td>NaN</td>\n",
       "    </tr>\n",
       "    <tr>\n",
       "      <th>5</th>\n",
       "      <td>B1</td>\n",
       "      <td>8.66667</td>\n",
       "      <td>5.68624</td>\n",
       "      <td>4</td>\n",
       "      <td>15</td>\n",
       "      <td>1.20566</td>\n",
       "      <td>NaN</td>\n",
       "    </tr>\n",
       "    <tr>\n",
       "      <th>6</th>\n",
       "      <td>B2</td>\n",
       "      <td>40</td>\n",
       "      <td>7</td>\n",
       "      <td>32</td>\n",
       "      <td>45</td>\n",
       "      <td>-1.57434</td>\n",
       "      <td>NaN</td>\n",
       "    </tr>\n",
       "    <tr>\n",
       "      <th>7</th>\n",
       "      <td>B3</td>\n",
       "      <td>13.3333</td>\n",
       "      <td>17.9258</td>\n",
       "      <td>2</td>\n",
       "      <td>34</td>\n",
       "      <td>1.70783</td>\n",
       "      <td>NaN</td>\n",
       "    </tr>\n",
       "  </tbody>\n",
       "</table>\n",
       "</div>"
      ],
      "text/plain": [
       "  기초통계       평균     표준편차  최소  최대       왜도   첨도\n",
       "0   A0  10.6667  10.9697   2  23   1.3361  NaN\n",
       "1   A1  20.3333  21.5019   2  44  1.04751  NaN\n",
       "2   A2  4.33333  2.08167   2   6 -1.29334  NaN\n",
       "3   A3  26.6667  33.2014   7  65  1.73028  NaN\n",
       "4   B0        6        3   3   9        0  NaN\n",
       "5   B1  8.66667  5.68624   4  15  1.20566  NaN\n",
       "6   B2       40        7  32  45 -1.57434  NaN\n",
       "7   B3  13.3333  17.9258   2  34  1.70783  NaN"
      ]
     },
     "execution_count": 25,
     "metadata": {},
     "output_type": "execute_result"
    }
   ],
   "source": [
    " static_num(test)"
   ]
  },
  {
   "cell_type": "code",
   "execution_count": 33,
   "metadata": {},
   "outputs": [],
   "source": [
    "import matplotlib.pyplot as plt"
   ]
  },
  {
   "cell_type": "code",
   "execution_count": 34,
   "metadata": {},
   "outputs": [],
   "source": [
    "#확인할 변수명 을 col에 \"A011\"같이 입력\n",
    "def one_histogram(df, col): \n",
    "    plt.hist(df[col])"
   ]
  },
  {
   "cell_type": "code",
   "execution_count": 38,
   "metadata": {},
   "outputs": [
    {
     "data": {
      "image/png": "[encoded data removed]",
      "text/plain": [
       "<Figure size 432x288 with 1 Axes>"
      ]
     },
     "metadata": {
      "needs_background": "light"
     },
     "output_type": "display_data"
    }
   ],
   "source": [
    "one_histogram(test, \"A0\")"
   ]
  },
  {
   "cell_type": "code",
   "execution_count": 40,
   "metadata": {},
   "outputs": [],
   "source": [
    "#하나의 key에 대한 k값만 확인\n",
    "def kAn(df, id, key): #입력 dataframe, 준식별자의 변수명 ex. df, \"id\"\n",
    "    keyLen = len(df[df[id] == key])\n",
    "    return keyLen"
   ]
  },
  {
   "cell_type": "code",
   "execution_count": 85,
   "metadata": {},
   "outputs": [
    {
     "data": {
      "text/plain": [
       "1"
      ]
     },
     "execution_count": 85,
     "metadata": {},
     "output_type": "execute_result"
    }
   ],
   "source": [
    "kAn(test3, \"num_x\", \"A001\")"
   ]
  },
  {
   "cell_type": "code",
   "execution_count": 89,
   "metadata": {},
   "outputs": [],
   "source": [
    "import numpy as np\n",
    "from scipy import stats"
   ]
  },
  {
   "cell_type": "code",
   "execution_count": 90,
   "metadata": {},
   "outputs": [],
   "source": [
    "#두 변수의 공분산, p-value, 상관계수 구함\n",
    "def cor(df, value1, value2):\n",
    "    temp = []\n",
    "    chis = stats.pearsonr(df[value1], df[value2]) #참고 : https://ordo.tistory.com/100\n",
    "    cov = np.cov(df[value1], df[value2])[0,1] #참고 : https://mindscale.kr/course/basic-stat-python/5/\n",
    "    temp.append(chis[0]) #temp[0]\n",
    "    temp.append(chis[1]) #temp[1]\n",
    "    temp.append(cov)     #temp[2]\n",
    "    return temp # chis[0]은 상관계수 값, chis[1]은 p-value 값, cov는 공분산 값"
   ]
  },
  {
   "cell_type": "code",
   "execution_count": 92,
   "metadata": {},
   "outputs": [
    {
     "data": {
      "text/plain": [
       "[0.22790142204853647, 0.8536272099193453, 7.500000000000001]"
      ]
     },
     "execution_count": 92,
     "metadata": {},
     "output_type": "execute_result"
    }
   ],
   "source": [
    "cor(test3, 'A0', 'B0')"
   ]
  }
 ],
 "metadata": {
  "kernelspec": {
   "display_name": "Python 3",
   "language": "python",
   "name": "python3"
  },
  "language_info": {
   "codemirror_mode": {
    "name": "ipython",
    "version": 3
   },
   "file_extension": ".py",
   "mimetype": "text/x-python",
   "name": "python",
   "nbconvert_exporter": "python",
   "pygments_lexer": "ipython3",
   "version": "3.8.5"
  }
 },
 "nbformat": 4,
 "nbformat_minor": 2
}
