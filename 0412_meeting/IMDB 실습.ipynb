{
 "cells": [
  {
   "cell_type": "markdown",
   "metadata": {},
   "source": [
    "# 0. 목적  \n",
    "### IMDB 영화 리뷰로 구성된 데이터를 이용하여 NLP 실습\n",
    "##### [데이터출처](https://www.kaggle.com/ymanojkumar023/kumarmanoj-bag-of-words-meets-bags-of-popcorn?select=labeledTrainData.tsv)"
   ]
  },
  {
   "cell_type": "markdown",
   "metadata": {},
   "source": [
    "# 1. 데이터 불러오기"
   ]
  },
  {
   "cell_type": "code",
   "execution_count": 1,
   "metadata": {},
   "outputs": [],
   "source": [
    "import pandas as pd"
   ]
  },
  {
   "cell_type": "code",
   "execution_count": 2,
   "metadata": {},
   "outputs": [],
   "source": [
    "df = pd.read_csv('C:/Users/ba874/Desktop/OCL/study/dataset/nlp/labeledTrainData.tsv', header = 0, delimiter = '\\t', quoting=3)"
   ]
  },
  {
   "cell_type": "markdown",
   "metadata": {},
   "source": [
    "### 1.1 불러온 데이터 확인"
   ]
  },
  {
   "cell_type": "code",
   "execution_count": 3,
   "metadata": {},
   "outputs": [
    {
     "data": {
      "text/html": [
       "<div>\n",
       "<style scoped>\n",
       "    .dataframe tbody tr th:only-of-type {\n",
       "        vertical-align: middle;\n",
       "    }\n",
       "\n",
       "    .dataframe tbody tr th {\n",
       "        vertical-align: top;\n",
       "    }\n",
       "\n",
       "    .dataframe thead th {\n",
       "        text-align: right;\n",
       "    }\n",
       "</style>\n",
       "<table border=\"1\" class=\"dataframe\">\n",
       "  <thead>\n",
       "    <tr style=\"text-align: right;\">\n",
       "      <th></th>\n",
       "      <th>id</th>\n",
       "      <th>sentiment</th>\n",
       "      <th>review</th>\n",
       "    </tr>\n",
       "  </thead>\n",
       "  <tbody>\n",
       "    <tr>\n",
       "      <th>0</th>\n",
       "      <td>\"5814_8\"</td>\n",
       "      <td>1</td>\n",
       "      <td>\"With all this stuff going down at the moment ...</td>\n",
       "    </tr>\n",
       "    <tr>\n",
       "      <th>1</th>\n",
       "      <td>\"2381_9\"</td>\n",
       "      <td>1</td>\n",
       "      <td>\"\\\"The Classic War of the Worlds\\\" by Timothy ...</td>\n",
       "    </tr>\n",
       "    <tr>\n",
       "      <th>2</th>\n",
       "      <td>\"7759_3\"</td>\n",
       "      <td>0</td>\n",
       "      <td>\"The film starts with a manager (Nicholas Bell...</td>\n",
       "    </tr>\n",
       "    <tr>\n",
       "      <th>3</th>\n",
       "      <td>\"3630_4\"</td>\n",
       "      <td>0</td>\n",
       "      <td>\"It must be assumed that those who praised thi...</td>\n",
       "    </tr>\n",
       "    <tr>\n",
       "      <th>4</th>\n",
       "      <td>\"9495_8\"</td>\n",
       "      <td>1</td>\n",
       "      <td>\"Superbly trashy and wondrously unpretentious ...</td>\n",
       "    </tr>\n",
       "  </tbody>\n",
       "</table>\n",
       "</div>"
      ],
      "text/plain": [
       "         id  sentiment                                             review\n",
       "0  \"5814_8\"          1  \"With all this stuff going down at the moment ...\n",
       "1  \"2381_9\"          1  \"\\\"The Classic War of the Worlds\\\" by Timothy ...\n",
       "2  \"7759_3\"          0  \"The film starts with a manager (Nicholas Bell...\n",
       "3  \"3630_4\"          0  \"It must be assumed that those who praised thi...\n",
       "4  \"9495_8\"          1  \"Superbly trashy and wondrously unpretentious ..."
      ]
     },
     "execution_count": 3,
     "metadata": {},
     "output_type": "execute_result"
    }
   ],
   "source": [
    "df.head()"
   ]
  },
  {
   "cell_type": "markdown",
   "metadata": {},
   "source": [
    "# 2. 데이터 보기"
   ]
  },
  {
   "cell_type": "code",
   "execution_count": 4,
   "metadata": {
    "scrolled": true
   },
   "outputs": [
    {
     "data": {
      "text/html": [
       "<div>\n",
       "<style scoped>\n",
       "    .dataframe tbody tr th:only-of-type {\n",
       "        vertical-align: middle;\n",
       "    }\n",
       "\n",
       "    .dataframe tbody tr th {\n",
       "        vertical-align: top;\n",
       "    }\n",
       "\n",
       "    .dataframe thead th {\n",
       "        text-align: right;\n",
       "    }\n",
       "</style>\n",
       "<table border=\"1\" class=\"dataframe\">\n",
       "  <thead>\n",
       "    <tr style=\"text-align: right;\">\n",
       "      <th></th>\n",
       "      <th>sentiment</th>\n",
       "    </tr>\n",
       "  </thead>\n",
       "  <tbody>\n",
       "    <tr>\n",
       "      <th>count</th>\n",
       "      <td>25000.00000</td>\n",
       "    </tr>\n",
       "    <tr>\n",
       "      <th>mean</th>\n",
       "      <td>0.50000</td>\n",
       "    </tr>\n",
       "    <tr>\n",
       "      <th>std</th>\n",
       "      <td>0.50001</td>\n",
       "    </tr>\n",
       "    <tr>\n",
       "      <th>min</th>\n",
       "      <td>0.00000</td>\n",
       "    </tr>\n",
       "    <tr>\n",
       "      <th>25%</th>\n",
       "      <td>0.00000</td>\n",
       "    </tr>\n",
       "    <tr>\n",
       "      <th>50%</th>\n",
       "      <td>0.50000</td>\n",
       "    </tr>\n",
       "    <tr>\n",
       "      <th>75%</th>\n",
       "      <td>1.00000</td>\n",
       "    </tr>\n",
       "    <tr>\n",
       "      <th>max</th>\n",
       "      <td>1.00000</td>\n",
       "    </tr>\n",
       "  </tbody>\n",
       "</table>\n",
       "</div>"
      ],
      "text/plain": [
       "         sentiment\n",
       "count  25000.00000\n",
       "mean       0.50000\n",
       "std        0.50001\n",
       "min        0.00000\n",
       "25%        0.00000\n",
       "50%        0.50000\n",
       "75%        1.00000\n",
       "max        1.00000"
      ]
     },
     "execution_count": 4,
     "metadata": {},
     "output_type": "execute_result"
    }
   ],
   "source": [
    "df.describe()"
   ]
  },
  {
   "cell_type": "code",
   "execution_count": 5,
   "metadata": {
    "scrolled": true
   },
   "outputs": [
    {
     "name": "stdout",
     "output_type": "stream",
     "text": [
      "<class 'pandas.core.frame.DataFrame'>\n",
      "RangeIndex: 25000 entries, 0 to 24999\n",
      "Data columns (total 3 columns):\n",
      " #   Column     Non-Null Count  Dtype \n",
      "---  ------     --------------  ----- \n",
      " 0   id         25000 non-null  object\n",
      " 1   sentiment  25000 non-null  int64 \n",
      " 2   review     25000 non-null  object\n",
      "dtypes: int64(1), object(2)\n",
      "memory usage: 586.1+ KB\n"
     ]
    }
   ],
   "source": [
    "df.info()"
   ]
  },
  {
   "cell_type": "code",
   "execution_count": 6,
   "metadata": {
    "scrolled": true
   },
   "outputs": [
    {
     "data": {
      "text/plain": [
       "1    12500\n",
       "0    12500\n",
       "Name: sentiment, dtype: int64"
      ]
     },
     "execution_count": 6,
     "metadata": {},
     "output_type": "execute_result"
    }
   ],
   "source": [
    "df[\"sentiment\"].value_counts()"
   ]
  },
  {
   "cell_type": "markdown",
   "metadata": {},
   "source": [
    "##### 결측치는 없으며 긍정(df[\"sentiment\"] = 1)과 부정(df[\"sentimnet\"] = 0)이 같은 비율로 구성되어있다."
   ]
  },
  {
   "cell_type": "markdown",
   "metadata": {},
   "source": [
    "### 2.1 review에 소문자, 대문자, 온점과 특수문자( ', - )을 제외한 문자가 있는지 확인"
   ]
  },
  {
   "cell_type": "code",
   "execution_count": 7,
   "metadata": {},
   "outputs": [],
   "source": [
    "from bs4 import BeautifulSoup as bs"
   ]
  },
  {
   "cell_type": "code",
   "execution_count": 8,
   "metadata": {},
   "outputs": [],
   "source": [
    "soup = []"
   ]
  },
  {
   "cell_type": "markdown",
   "metadata": {},
   "source": [
    "[beautifulsoup에서 사용 가능한 파서](https://brownbears.tistory.com/414)"
   ]
  },
  {
   "cell_type": "code",
   "execution_count": 9,
   "metadata": {},
   "outputs": [
    {
     "data": {
      "text/plain": [
       "'\"It must be assumed that those who praised this film (\\\\\"the greatest filmed opera ever,\\\\\" didn\\'t I read somewhere?) either don\\'t care for opera, don\\'t care for Wagner, or don\\'t care about anything except their desire to appear Cultured. Either as a representation of Wagner\\'s swan-song, or as a movie, this strikes me as an unmitigated disaster, with a leaden reading of the score matched to a tricksy, lugubrious realisation of the text.<br /><br />It\\'s questionable that people with ideas as to what an opera (or, for that matter, a play, especially one by Shakespeare) is \\\\\"about\\\\\" should be allowed anywhere near a theatre or film studio; Syberberg, very fashionably, but without the smallest justification from Wagner\\'s text, decided that Parsifal is \\\\\"about\\\\\" bisexual integration, so that the title character, in the latter stages, transmutes into a kind of beatnik babe, though one who continues to sing high tenor -- few if any of the actors in the film are the singers, and we get a double dose of Armin Jordan, the conductor, who is seen as the face (but not heard as the voice) of Amfortas, and also appears monstrously in double exposure as a kind of Batonzilla or Conductor Who Ate Monsalvat during the playing of the Good Friday music -- in which, by the way, the transcendant loveliness of nature is represented by a scattering of shopworn and flaccid crocuses stuck in ill-laid turf, an expedient which baffles me. In the theatre we sometimes have to piece out such imperfections with our thoughts, but I can\\'t think why Syberberg couldn\\'t splice in, for Parsifal and Gurnemanz, mountain pasture as lush as was provided for Julie Andrews in Sound of Music...<br /><br />The sound is hard to endure, the high voices and the trumpets in particular possessing an aural glare that adds another sort of fatigue to our impatience with the uninspired conducting and paralytic unfolding of the ritual. Someone in another review mentioned the 1951 Bayreuth recording, and Knappertsbusch, though his tempi are often very slow, had what Jordan altogether lacks, a sense of pulse, a feeling for the ebb and flow of the music -- and, after half a century, the orchestral sound in that set, in modern pressings, is still superior to this film.\"'"
      ]
     },
     "execution_count": 9,
     "metadata": {},
     "output_type": "execute_result"
    }
   ],
   "source": [
    "df[\"review\"][3]"
   ]
  },
  {
   "cell_type": "code",
   "execution_count": 10,
   "metadata": {},
   "outputs": [],
   "source": [
    "for i in range(len(df[\"review\"])):\n",
    "    soup.append(bs(df[\"review\"][i], \"html5lib\"))"
   ]
  },
  {
   "cell_type": "code",
   "execution_count": 11,
   "metadata": {},
   "outputs": [
    {
     "data": {
      "text/plain": [
       "'\"It must be assumed that those who praised this film (\\\\\"the greatest filmed opera ever,\\\\\" didn\\'t I read somewhere?) either don\\'t care for opera, don\\'t care for Wagner, or don\\'t care about anything except their desire to appear Cultured. Either as a representation of Wagner\\'s swan-song, or as a movie, this strikes me as an unmitigated disaster, with a leaden reading of the score matched to a tricksy, lugubrious realisation of the text.It\\'s questionable that people with ideas as to what an opera (or, for that matter, a play, especially one by Shakespeare) is \\\\\"about\\\\\" should be allowed anywhere near a theatre or film studio; Syberberg, very fashionably, but without the smallest justification from Wagner\\'s text, decided that Parsifal is \\\\\"about\\\\\" bisexual integration, so that the title character, in the latter stages, transmutes into a kind of beatnik babe, though one who continues to sing high tenor -- few if any of the actors in the film are the singers, and we get a double dose of Armin Jordan, the conductor, who is seen as the face (but not heard as the voice) of Amfortas, and also appears monstrously in double exposure as a kind of Batonzilla or Conductor Who Ate Monsalvat during the playing of the Good Friday music -- in which, by the way, the transcendant loveliness of nature is represented by a scattering of shopworn and flaccid crocuses stuck in ill-laid turf, an expedient which baffles me. In the theatre we sometimes have to piece out such imperfections with our thoughts, but I can\\'t think why Syberberg couldn\\'t splice in, for Parsifal and Gurnemanz, mountain pasture as lush as was provided for Julie Andrews in Sound of Music...The sound is hard to endure, the high voices and the trumpets in particular possessing an aural glare that adds another sort of fatigue to our impatience with the uninspired conducting and paralytic unfolding of the ritual. Someone in another review mentioned the 1951 Bayreuth recording, and Knappertsbusch, though his tempi are often very slow, had what Jordan altogether lacks, a sense of pulse, a feeling for the ebb and flow of the music -- and, after half a century, the orchestral sound in that set, in modern pressings, is still superior to this film.\"'"
      ]
     },
     "execution_count": 11,
     "metadata": {},
     "output_type": "execute_result"
    }
   ],
   "source": [
    "soup[3].get_text()"
   ]
  },
  {
   "cell_type": "code",
   "execution_count": 12,
   "metadata": {},
   "outputs": [],
   "source": [
    "import re"
   ]
  },
  {
   "cell_type": "code",
   "execution_count": 13,
   "metadata": {},
   "outputs": [],
   "source": [
    "letter = []"
   ]
  },
  {
   "cell_type": "code",
   "execution_count": 14,
   "metadata": {},
   "outputs": [],
   "source": [
    "for i in range(len(soup)):\n",
    "    letter.append(re.sub(\"[.|0-9|a-z|A-Z|-|']\", ' ', soup[i].get_text()))"
   ]
  },
  {
   "cell_type": "code",
   "execution_count": 15,
   "metadata": {},
   "outputs": [
    {
     "data": {
      "text/plain": [
       "'\"\\\\\"                             \\\\\"                                                                                                                                                                                 ,                                       ,                                                  ,                                                     ,                                                                                                          ,                                                                                          \\\\\"       \\\\\"                                                                                        ,                      ,                                               \\\\\"       \\\\\"                                                                                      ,                                                                                 \\\\\"       \\\\\"                                 \"'"
      ]
     },
     "execution_count": 15,
     "metadata": {},
     "output_type": "execute_result"
    }
   ],
   "source": [
    "letter[1]"
   ]
  },
  {
   "cell_type": "markdown",
   "metadata": {},
   "source": [
    "여러 예외적인 문자들이 존재한다."
   ]
  },
  {
   "cell_type": "markdown",
   "metadata": {},
   "source": [
    "# 3. 데이터 클린징"
   ]
  },
  {
   "cell_type": "markdown",
   "metadata": {},
   "source": [
    "### 3.1 review의 대문자를 소문자로 바꾸고 예외적인 문자들 제거"
   ]
  },
  {
   "cell_type": "code",
   "execution_count": 16,
   "metadata": {},
   "outputs": [],
   "source": [
    "letter = []"
   ]
  },
  {
   "cell_type": "code",
   "execution_count": 17,
   "metadata": {},
   "outputs": [],
   "source": [
    "for i in range(len(soup)):\n",
    "    letter.append(re.sub(\"[^.|0-9|a-z|A-Z|-|']\", ' ', soup[i].get_text()))"
   ]
  },
  {
   "cell_type": "code",
   "execution_count": 18,
   "metadata": {},
   "outputs": [],
   "source": [
    "lower = []"
   ]
  },
  {
   "cell_type": "code",
   "execution_count": 19,
   "metadata": {},
   "outputs": [],
   "source": [
    "for i in range(len(letter)):\n",
    "    lower.append(letter[i].lower())"
   ]
  },
  {
   "cell_type": "code",
   "execution_count": 20,
   "metadata": {},
   "outputs": [
    {
     "data": {
      "text/plain": [
       "\"   the classic war of the worlds   by timothy hines is a very entertaining film that obviously goes to great effort and lengths to faithfully recreate h. g. wells' classic book. mr. hines succeeds in doing so. i  and those who watched his film with me  appreciated the fact that it was not the standard  predictable hollywood fare that comes out every year  e.g. the spielberg version with tom cruise that had only the slightest resemblance to the book. obviously  everyone looks for different things in a movie. those who envision themselves as amateur   critics   look only to criticize everything they can. others rate a movie on more important bases like being entertained  which is why most people never agree with the   critics  . we enjoyed the effort mr. hines put into being faithful to h.g. wells' classic novel  and we found it to be very entertaining. this made it easy to overlook what the   critics   perceive to be its shortcomings. \""
      ]
     },
     "execution_count": 20,
     "metadata": {},
     "output_type": "execute_result"
    }
   ],
   "source": [
    "lower[1]"
   ]
  },
  {
   "cell_type": "markdown",
   "metadata": {},
   "source": [
    "### 3.2 토큰화 후 불용어 및 길이가 짧은 단어 제거"
   ]
  },
  {
   "cell_type": "code",
   "execution_count": 21,
   "metadata": {},
   "outputs": [],
   "source": [
    "from nltk.tokenize import TreebankWordTokenizer"
   ]
  },
  {
   "cell_type": "code",
   "execution_count": 22,
   "metadata": {},
   "outputs": [],
   "source": [
    "tokenizer = TreebankWordTokenizer()"
   ]
  },
  {
   "cell_type": "code",
   "execution_count": 23,
   "metadata": {},
   "outputs": [],
   "source": [
    "token = []"
   ]
  },
  {
   "cell_type": "code",
   "execution_count": 24,
   "metadata": {
    "scrolled": true
   },
   "outputs": [],
   "source": [
    "for i in range(len(lower)):\n",
    "    token.append(tokenizer.tokenize(lower[i]))"
   ]
  },
  {
   "cell_type": "code",
   "execution_count": 25,
   "metadata": {},
   "outputs": [],
   "source": [
    "from nltk.corpus import stopwords"
   ]
  },
  {
   "cell_type": "code",
   "execution_count": 26,
   "metadata": {},
   "outputs": [],
   "source": [
    "stword = stopwords.words('english')"
   ]
  },
  {
   "cell_type": "code",
   "execution_count": 27,
   "metadata": {},
   "outputs": [],
   "source": [
    "words = []"
   ]
  },
  {
   "cell_type": "code",
   "execution_count": 28,
   "metadata": {
    "scrolled": true
   },
   "outputs": [],
   "source": [
    "for i in range(len(token)):\n",
    "    words.append([])\n",
    "    for j in range(len(token[i])):\n",
    "        if token[i][j] not in stword:\n",
    "            if len(token[i][j]) > 2:\n",
    "                words[i].append(token[i][j])"
   ]
  },
  {
   "cell_type": "markdown",
   "metadata": {},
   "source": [
    "### 3.3 딕셔너리 만들어 문장의 단어들 숫자로 치환"
   ]
  },
  {
   "cell_type": "markdown",
   "metadata": {},
   "source": [
    "[딕셔너리 관련 링크](https://wikidocs.net/16)"
   ]
  },
  {
   "cell_type": "code",
   "execution_count": 29,
   "metadata": {},
   "outputs": [],
   "source": [
    "dict_review = {}\n",
    "value = 0"
   ]
  },
  {
   "cell_type": "code",
   "execution_count": 30,
   "metadata": {},
   "outputs": [],
   "source": [
    "for i in range(len(words)):\n",
    "    for j in words[i]:\n",
    "        if j not in dict_review.keys():\n",
    "            dict_review[j] = value\n",
    "            value += 1"
   ]
  },
  {
   "cell_type": "code",
   "execution_count": 31,
   "metadata": {},
   "outputs": [
    {
     "data": {
      "text/plain": [
       "129718"
      ]
     },
     "execution_count": 31,
     "metadata": {},
     "output_type": "execute_result"
    }
   ],
   "source": [
    "len(dict_review)"
   ]
  },
  {
   "cell_type": "code",
   "execution_count": 32,
   "metadata": {},
   "outputs": [
    {
     "data": {
      "text/plain": [
       "129718"
      ]
     },
     "execution_count": 32,
     "metadata": {},
     "output_type": "execute_result"
    }
   ],
   "source": [
    "len(dict_review)"
   ]
  },
  {
   "cell_type": "code",
   "execution_count": 33,
   "metadata": {},
   "outputs": [],
   "source": [
    "new_words = words"
   ]
  },
  {
   "cell_type": "code",
   "execution_count": 34,
   "metadata": {},
   "outputs": [],
   "source": [
    "import numpy as np"
   ]
  },
  {
   "cell_type": "code",
   "execution_count": 35,
   "metadata": {},
   "outputs": [],
   "source": [
    "frequency = np.zeros(len(dict_review))"
   ]
  },
  {
   "cell_type": "code",
   "execution_count": 36,
   "metadata": {},
   "outputs": [
    {
     "data": {
      "text/plain": [
       "129718"
      ]
     },
     "execution_count": 36,
     "metadata": {},
     "output_type": "execute_result"
    }
   ],
   "source": [
    "len(frequency)"
   ]
  },
  {
   "cell_type": "code",
   "execution_count": 37,
   "metadata": {
    "scrolled": true
   },
   "outputs": [],
   "source": [
    "for i in range(len(new_words)):\n",
    "    for j in range(len(new_words[i])):\n",
    "        temp = dict_review[new_words[i][j]]\n",
    "        new_words[i][j] = temp\n",
    "        frequency[temp] +=1"
   ]
  },
  {
   "cell_type": "markdown",
   "metadata": {},
   "source": [
    "### 3.4 단어의 빈도가 0.02%이하인 단어 사전에서 제거 및 토큰화 된 list에서도 제거"
   ]
  },
  {
   "cell_type": "code",
   "execution_count": 38,
   "metadata": {},
   "outputs": [],
   "source": [
    "reverse_dict = dict([(value, key) for (key, value) in dict_review.items()])"
   ]
  },
  {
   "cell_type": "code",
   "execution_count": 39,
   "metadata": {},
   "outputs": [
    {
     "data": {
      "text/plain": [
       "129718"
      ]
     },
     "execution_count": 39,
     "metadata": {},
     "output_type": "execute_result"
    }
   ],
   "source": [
    "len(reverse_dict)"
   ]
  },
  {
   "cell_type": "code",
   "execution_count": 40,
   "metadata": {},
   "outputs": [],
   "source": [
    "for i in range(len(frequency)):\n",
    "    if frequency[i] <= 26:\n",
    "        del reverse_dict[i]"
   ]
  },
  {
   "cell_type": "code",
   "execution_count": 41,
   "metadata": {
    "scrolled": true
   },
   "outputs": [
    {
     "data": {
      "text/plain": [
       "11402"
      ]
     },
     "execution_count": 41,
     "metadata": {},
     "output_type": "execute_result"
    }
   ],
   "source": [
    "len(reverse_dict)"
   ]
  },
  {
   "cell_type": "code",
   "execution_count": 42,
   "metadata": {
    "scrolled": false
   },
   "outputs": [
    {
     "data": {
      "text/plain": [
       "25000"
      ]
     },
     "execution_count": 42,
     "metadata": {},
     "output_type": "execute_result"
    }
   ],
   "source": [
    "len(new_words)"
   ]
  },
  {
   "cell_type": "code",
   "execution_count": 43,
   "metadata": {},
   "outputs": [],
   "source": [
    "frequen_word = []"
   ]
  },
  {
   "cell_type": "code",
   "execution_count": 44,
   "metadata": {},
   "outputs": [],
   "source": [
    "for i in range(len(new_words)):\n",
    "    frequen_word.append([])\n",
    "    for j in range(len(new_words[i])):\n",
    "        if new_words[i][j] in reverse_dict.keys():\n",
    "            frequen_word[i].append(new_words[i][j])"
   ]
  },
  {
   "cell_type": "markdown",
   "metadata": {},
   "source": [
    "### 3.5 bag-of-words 방법 적용"
   ]
  },
  {
   "cell_type": "code",
   "execution_count": 45,
   "metadata": {},
   "outputs": [],
   "source": [
    "frequen_dict = {}\n",
    "key = 0"
   ]
  },
  {
   "cell_type": "code",
   "execution_count": 46,
   "metadata": {
    "scrolled": true
   },
   "outputs": [],
   "source": [
    "for i in range(len(frequen_word)):\n",
    "    for j in frequen_word[i]:\n",
    "        value = reverse_dict[j]\n",
    "        if value not in frequen_dict.values():\n",
    "            frequen_dict[key] = value\n",
    "            key += 1"
   ]
  },
  {
   "cell_type": "code",
   "execution_count": 47,
   "metadata": {},
   "outputs": [],
   "source": [
    "for i in range(len(frequen_word)):\n",
    "    for j in range(len(frequen_word[i])):\n",
    "        temp = reverse_dict[frequen_word[i][j]]\n",
    "        frequen_word[i][j] = temp"
   ]
  },
  {
   "cell_type": "code",
   "execution_count": 48,
   "metadata": {},
   "outputs": [],
   "source": [
    "rev_freq_dict = dict([(value, key) for (key, value) in frequen_dict.items()])"
   ]
  },
  {
   "cell_type": "code",
   "execution_count": 49,
   "metadata": {},
   "outputs": [],
   "source": [
    "for i in range(len(frequen_word)):\n",
    "    for j in range(len(frequen_word[i])):\n",
    "        temp = rev_freq_dict[frequen_word[i][j]]\n",
    "        frequen_word[i][j] = temp"
   ]
  },
  {
   "cell_type": "code",
   "execution_count": 50,
   "metadata": {},
   "outputs": [],
   "source": [
    "def bag_of_words(sequences, dimension=len(rev_freq_dict)):\n",
    "    results = np.zeros((len(sequences), dimension))\n",
    "    for i in range(len(sequences)):\n",
    "        for j in range(len(sequences[i])):\n",
    "            temp = sequences[i][j]\n",
    "            if results[i][temp] == 0:\n",
    "                results[i][temp] = 1\n",
    "            else:\n",
    "                results[i][temp] += 1\n",
    "    return results"
   ]
  },
  {
   "cell_type": "code",
   "execution_count": 51,
   "metadata": {},
   "outputs": [],
   "source": [
    "x = bag_of_words(frequen_word)"
   ]
  },
  {
   "cell_type": "code",
   "execution_count": 52,
   "metadata": {},
   "outputs": [],
   "source": [
    "y = np.array(df[\"sentiment\"])"
   ]
  },
  {
   "cell_type": "markdown",
   "metadata": {},
   "source": [
    "### 3.6 One-hot encoding"
   ]
  },
  {
   "cell_type": "code",
   "execution_count": 53,
   "metadata": {},
   "outputs": [],
   "source": [
    "def one_hot(sequences, dimension=len(rev_freq_dict)):\n",
    "    results = np.zeros((len(sequences), dimension))\n",
    "    for i in range(len(sequences)):\n",
    "        for j in range(len(sequences[i])):\n",
    "            temp = sequences[i][j]\n",
    "            results[i][temp] = 1\n",
    "    return results"
   ]
  },
  {
   "cell_type": "code",
   "execution_count": 54,
   "metadata": {},
   "outputs": [],
   "source": [
    "x_oh = one_hot(frequen_word)"
   ]
  },
  {
   "cell_type": "code",
   "execution_count": 55,
   "metadata": {},
   "outputs": [],
   "source": [
    "y_oh = np.array(df[\"sentiment\"])"
   ]
  },
  {
   "cell_type": "markdown",
   "metadata": {},
   "source": [
    "### 3.7 TF-IDF"
   ]
  },
  {
   "cell_type": "code",
   "execution_count": 56,
   "metadata": {},
   "outputs": [],
   "source": [
    "from math import log"
   ]
  },
  {
   "cell_type": "code",
   "execution_count": 57,
   "metadata": {},
   "outputs": [],
   "source": [
    "n = len(frequen_word)"
   ]
  },
  {
   "cell_type": "code",
   "execution_count": 58,
   "metadata": {},
   "outputs": [
    {
     "data": {
      "text/plain": [
       "188.0"
      ]
     },
     "execution_count": 58,
     "metadata": {},
     "output_type": "execute_result"
    }
   ],
   "source": [
    "x[0].sum()"
   ]
  },
  {
   "cell_type": "code",
   "execution_count": 59,
   "metadata": {},
   "outputs": [],
   "source": [
    "x_idf = []"
   ]
  },
  {
   "cell_type": "code",
   "execution_count": 60,
   "metadata": {
    "scrolled": false
   },
   "outputs": [
    {
     "name": "stdout",
     "output_type": "stream",
     "text": [
      "0\n",
      "5000\n",
      "10000\n",
      "15000\n",
      "20000\n"
     ]
    }
   ],
   "source": [
    "for i in range(len(x)):\n",
    "    x_idf.append([])\n",
    "    for j in range(len(x[i])):\n",
    "        if x[i][j] == 0:\n",
    "            x_idf[i].append(0)\n",
    "        else:\n",
    "            x_idf[i].append(x[i][j]*log(n/(x[i].sum() + 1)))\n",
    "            x_idf[i][j] = round(x_idf[i][j], 4).astype(np.float32)\n",
    "    if i % 5000 == 0:\n",
    "        print(i)"
   ]
  },
  {
   "cell_type": "code",
   "execution_count": 61,
   "metadata": {},
   "outputs": [],
   "source": [
    "y_idf = np.array(df[\"sentiment\"])"
   ]
  },
  {
   "cell_type": "markdown",
   "metadata": {},
   "source": [
    "# 4. 모델적용"
   ]
  },
  {
   "cell_type": "code",
   "execution_count": 62,
   "metadata": {},
   "outputs": [],
   "source": [
    "from keras import models\n",
    "from keras import layers"
   ]
  },
  {
   "cell_type": "code",
   "execution_count": 63,
   "metadata": {},
   "outputs": [],
   "source": [
    "model = models.Sequential()\n",
    "model.add(layers.Dense(16, activation='relu', input_shape=(len(rev_freq_dict),)))\n",
    "model.add(layers.Dense(16, activation='relu'))\n",
    "model.add(layers.Dense(1, activation='sigmoid'))"
   ]
  },
  {
   "cell_type": "code",
   "execution_count": 64,
   "metadata": {},
   "outputs": [],
   "source": [
    "model.compile(optimizer='rmsprop', loss='binary_crossentropy', metrics=['accuracy'])"
   ]
  },
  {
   "cell_type": "code",
   "execution_count": 65,
   "metadata": {},
   "outputs": [],
   "source": [
    "model_oh = models.Sequential()\n",
    "model_oh.add(layers.Dense(16, activation='relu', input_shape=(len(rev_freq_dict),)))\n",
    "model_oh.add(layers.Dense(16, activation='relu'))\n",
    "model_oh.add(layers.Dense(1, activation='sigmoid'))\n",
    "model_oh.compile(optimizer='rmsprop', loss='binary_crossentropy', metrics=['accuracy'])"
   ]
  },
  {
   "cell_type": "code",
   "execution_count": 66,
   "metadata": {},
   "outputs": [],
   "source": [
    "model_idf = models.Sequential()\n",
    "model_idf.add(layers.Dense(16, activation='relu', input_shape=(len(rev_freq_dict),)))\n",
    "model_idf.add(layers.Dense(16, activation='relu'))\n",
    "model_idf.add(layers.Dense(1, activation='sigmoid'))\n",
    "model_idf.compile(optimizer='rmsprop', loss='binary_crossentropy', metrics=['accuracy'])"
   ]
  },
  {
   "cell_type": "code",
   "execution_count": 67,
   "metadata": {},
   "outputs": [],
   "source": [
    "x_train = x[:15000]\n",
    "y_train = y[:15000]\n",
    "x_test = x[15000:]\n",
    "y_test = y[15000:]"
   ]
  },
  {
   "cell_type": "code",
   "execution_count": 68,
   "metadata": {},
   "outputs": [],
   "source": [
    "x_train_oh = x_oh[:15000]\n",
    "y_train_oh = y_oh[:15000]\n",
    "x_test_oh = x_oh[15000:]\n",
    "y_test_oh = y_oh[15000:]"
   ]
  },
  {
   "cell_type": "code",
   "execution_count": 69,
   "metadata": {},
   "outputs": [],
   "source": [
    "x_train_idf = np.asarray(x_idf[:15000])\n",
    "y_train_idf = np.asarray(y_idf[:15000])\n",
    "x_test_idf = np.asarray(x_idf[15000:])\n",
    "y_test_idf = np.asarray(y_idf[15000:])"
   ]
  },
  {
   "cell_type": "code",
   "execution_count": 70,
   "metadata": {},
   "outputs": [
    {
     "data": {
      "text/plain": [
       "15000"
      ]
     },
     "execution_count": 70,
     "metadata": {},
     "output_type": "execute_result"
    }
   ],
   "source": [
    "len(x_train)"
   ]
  },
  {
   "cell_type": "code",
   "execution_count": 71,
   "metadata": {
    "scrolled": true
   },
   "outputs": [
    {
     "data": {
      "text/plain": [
       "7487"
      ]
     },
     "execution_count": 71,
     "metadata": {},
     "output_type": "execute_result"
    }
   ],
   "source": [
    "y_train.sum()"
   ]
  },
  {
   "cell_type": "code",
   "execution_count": 72,
   "metadata": {
    "scrolled": true
   },
   "outputs": [
    {
     "data": {
      "text/plain": [
       "5013"
      ]
     },
     "execution_count": 72,
     "metadata": {},
     "output_type": "execute_result"
    }
   ],
   "source": [
    "y_test.sum()"
   ]
  },
  {
   "cell_type": "code",
   "execution_count": 73,
   "metadata": {},
   "outputs": [],
   "source": [
    "x_val = x_train[:5000]\n",
    "partial_x_train = x_train[5000:]\n",
    "y_val = y_train[:5000]\n",
    "partial_y_train = y_train[5000:]"
   ]
  },
  {
   "cell_type": "code",
   "execution_count": 74,
   "metadata": {},
   "outputs": [],
   "source": [
    "x_val_oh = x_train_oh[:5000]\n",
    "partial_x_train_oh = x_train_oh[5000:]\n",
    "y_val_oh = y_train_oh[:5000]\n",
    "partial_y_train_oh = y_train_oh[5000:]"
   ]
  },
  {
   "cell_type": "code",
   "execution_count": 75,
   "metadata": {},
   "outputs": [],
   "source": [
    "x_val_idf = x_train_idf[:5000]\n",
    "partial_x_train_idf = x_train_idf[5000:]\n",
    "y_val_idf = y_train_idf[:5000]\n",
    "partial_y_train_idf = y_train_idf[5000:]"
   ]
  },
  {
   "cell_type": "code",
   "execution_count": 76,
   "metadata": {
    "scrolled": true
   },
   "outputs": [
    {
     "name": "stdout",
     "output_type": "stream",
     "text": [
      "Epoch 1/20\n",
      "20/20 [==============================] - 8s 266ms/step - loss: 0.6206 - accuracy: 0.6840 - val_loss: 0.4569 - val_accuracy: 0.8554\n",
      "Epoch 2/20\n",
      "20/20 [==============================] - 3s 138ms/step - loss: 0.3778 - accuracy: 0.9073 - val_loss: 0.3725 - val_accuracy: 0.8648\n",
      "Epoch 3/20\n",
      "20/20 [==============================] - 3s 133ms/step - loss: 0.2664 - accuracy: 0.9370 - val_loss: 0.3353 - val_accuracy: 0.8722\n",
      "Epoch 4/20\n",
      "20/20 [==============================] - 3s 140ms/step - loss: 0.1950 - accuracy: 0.9560 - val_loss: 0.3264 - val_accuracy: 0.8736\n",
      "Epoch 5/20\n",
      "20/20 [==============================] - 3s 131ms/step - loss: 0.1453 - accuracy: 0.9672 - val_loss: 0.3418 - val_accuracy: 0.8658\n",
      "Epoch 6/20\n",
      "20/20 [==============================] - 3s 138ms/step - loss: 0.1093 - accuracy: 0.9773 - val_loss: 0.3397 - val_accuracy: 0.8740\n",
      "Epoch 7/20\n",
      "20/20 [==============================] - 3s 135ms/step - loss: 0.0832 - accuracy: 0.9828 - val_loss: 0.3694 - val_accuracy: 0.8734\n",
      "Epoch 8/20\n",
      "20/20 [==============================] - 3s 139ms/step - loss: 0.0605 - accuracy: 0.9888 - val_loss: 0.3924 - val_accuracy: 0.8688\n",
      "Epoch 9/20\n",
      "20/20 [==============================] - 3s 138ms/step - loss: 0.0432 - accuracy: 0.9931 - val_loss: 0.4339 - val_accuracy: 0.8712\n",
      "Epoch 10/20\n",
      "20/20 [==============================] - 3s 142ms/step - loss: 0.0323 - accuracy: 0.9952 - val_loss: 0.4930 - val_accuracy: 0.8654\n",
      "Epoch 11/20\n",
      "20/20 [==============================] - 3s 139ms/step - loss: 0.0238 - accuracy: 0.9971 - val_loss: 0.5208 - val_accuracy: 0.8612\n",
      "Epoch 12/20\n",
      "20/20 [==============================] - 3s 148ms/step - loss: 0.0173 - accuracy: 0.9979 - val_loss: 0.5726 - val_accuracy: 0.8616\n",
      "Epoch 13/20\n",
      "20/20 [==============================] - 3s 141ms/step - loss: 0.0112 - accuracy: 0.9990 - val_loss: 0.6874 - val_accuracy: 0.8542\n",
      "Epoch 14/20\n",
      "20/20 [==============================] - 3s 142ms/step - loss: 0.0105 - accuracy: 0.9985 - val_loss: 0.6837 - val_accuracy: 0.8572\n",
      "Epoch 15/20\n",
      "20/20 [==============================] - 3s 139ms/step - loss: 0.0055 - accuracy: 0.9995 - val_loss: 0.7452 - val_accuracy: 0.8546\n",
      "Epoch 16/20\n",
      "20/20 [==============================] - 3s 139ms/step - loss: 0.0036 - accuracy: 0.9995 - val_loss: 0.8814 - val_accuracy: 0.8480\n",
      "Epoch 17/20\n",
      "20/20 [==============================] - 3s 147ms/step - loss: 0.0022 - accuracy: 0.9997 - val_loss: 0.8609 - val_accuracy: 0.8496\n",
      "Epoch 18/20\n",
      "20/20 [==============================] - 4s 189ms/step - loss: 0.0015 - accuracy: 0.9998 - val_loss: 0.9270 - val_accuracy: 0.8482\n",
      "Epoch 19/20\n",
      "20/20 [==============================] - 3s 155ms/step - loss: 8.0845e-04 - accuracy: 1.0000 - val_loss: 1.0013 - val_accuracy: 0.8446\n",
      "Epoch 20/20\n",
      "20/20 [==============================] - 3s 144ms/step - loss: 5.0595e-04 - accuracy: 1.0000 - val_loss: 1.0521 - val_accuracy: 0.8444\n"
     ]
    }
   ],
   "source": [
    "history = model.fit(partial_x_train, partial_y_train, epochs = 20, batch_size = 512, validation_data=(x_val, y_val))"
   ]
  },
  {
   "cell_type": "code",
   "execution_count": 77,
   "metadata": {
    "scrolled": true
   },
   "outputs": [
    {
     "name": "stdout",
     "output_type": "stream",
     "text": [
      "Epoch 1/20\n",
      "20/20 [==============================] - 7s 190ms/step - loss: 0.6245 - accuracy: 0.6877 - val_loss: 0.4593 - val_accuracy: 0.8422\n",
      "Epoch 2/20\n",
      "20/20 [==============================] - 3s 131ms/step - loss: 0.3805 - accuracy: 0.8954 - val_loss: 0.3614 - val_accuracy: 0.8652\n",
      "Epoch 3/20\n",
      "20/20 [==============================] - 2s 129ms/step - loss: 0.2623 - accuracy: 0.9312 - val_loss: 0.3339 - val_accuracy: 0.8660\n",
      "Epoch 4/20\n",
      "20/20 [==============================] - 2s 129ms/step - loss: 0.1979 - accuracy: 0.9490 - val_loss: 0.3105 - val_accuracy: 0.8742\n",
      "Epoch 5/20\n",
      "20/20 [==============================] - 2s 125ms/step - loss: 0.1473 - accuracy: 0.9626 - val_loss: 0.3160 - val_accuracy: 0.8712\n",
      "Epoch 6/20\n",
      "20/20 [==============================] - 2s 127ms/step - loss: 0.1081 - accuracy: 0.9763 - val_loss: 0.3255 - val_accuracy: 0.8708\n",
      "Epoch 7/20\n",
      "20/20 [==============================] - 2s 130ms/step - loss: 0.0883 - accuracy: 0.9779 - val_loss: 0.3422 - val_accuracy: 0.8690\n",
      "Epoch 8/20\n",
      "20/20 [==============================] - 3s 148ms/step - loss: 0.0651 - accuracy: 0.9853 - val_loss: 0.3681 - val_accuracy: 0.8678\n",
      "Epoch 9/20\n",
      "20/20 [==============================] - 3s 133ms/step - loss: 0.0434 - accuracy: 0.9921 - val_loss: 0.4001 - val_accuracy: 0.8652\n",
      "Epoch 10/20\n",
      "20/20 [==============================] - 2s 125ms/step - loss: 0.0314 - accuracy: 0.9954 - val_loss: 0.4303 - val_accuracy: 0.8616\n",
      "Epoch 11/20\n",
      "20/20 [==============================] - 2s 124ms/step - loss: 0.0223 - accuracy: 0.9972 - val_loss: 0.4748 - val_accuracy: 0.8572\n",
      "Epoch 12/20\n",
      "20/20 [==============================] - 2s 130ms/step - loss: 0.0159 - accuracy: 0.9984 - val_loss: 0.5128 - val_accuracy: 0.8564\n",
      "Epoch 13/20\n",
      "20/20 [==============================] - 3s 142ms/step - loss: 0.0098 - accuracy: 0.9992 - val_loss: 0.5675 - val_accuracy: 0.8560\n",
      "Epoch 14/20\n",
      "20/20 [==============================] - 3s 132ms/step - loss: 0.0054 - accuracy: 0.9998 - val_loss: 0.6239 - val_accuracy: 0.8536\n",
      "Epoch 15/20\n",
      "20/20 [==============================] - 3s 143ms/step - loss: 0.0035 - accuracy: 0.9999 - val_loss: 0.6862 - val_accuracy: 0.8540\n",
      "Epoch 16/20\n",
      "20/20 [==============================] - 3s 134ms/step - loss: 0.0020 - accuracy: 1.0000 - val_loss: 0.7577 - val_accuracy: 0.8504\n",
      "Epoch 17/20\n",
      "20/20 [==============================] - 2s 129ms/step - loss: 0.0011 - accuracy: 1.0000 - val_loss: 0.8259 - val_accuracy: 0.8492\n",
      "Epoch 18/20\n",
      "20/20 [==============================] - 2s 129ms/step - loss: 6.3213e-04 - accuracy: 1.0000 - val_loss: 0.9009 - val_accuracy: 0.8492\n",
      "Epoch 19/20\n",
      "20/20 [==============================] - 2s 129ms/step - loss: 3.6613e-04 - accuracy: 1.0000 - val_loss: 0.9858 - val_accuracy: 0.8464\n",
      "Epoch 20/20\n",
      "20/20 [==============================] - 2s 127ms/step - loss: 1.8080e-04 - accuracy: 1.0000 - val_loss: 1.0773 - val_accuracy: 0.8424\n"
     ]
    }
   ],
   "source": [
    "history_oh = model_oh.fit(partial_x_train_oh, partial_y_train_oh, epochs = 20, batch_size = 512, validation_data=(x_val_oh, y_val_oh))"
   ]
  },
  {
   "cell_type": "code",
   "execution_count": 78,
   "metadata": {
    "scrolled": true
   },
   "outputs": [
    {
     "name": "stdout",
     "output_type": "stream",
     "text": [
      "Epoch 1/20\n",
      "20/20 [==============================] - 19s 204ms/step - loss: 0.6705 - accuracy: 0.6289 - val_loss: 0.4090 - val_accuracy: 0.8364\n",
      "Epoch 2/20\n",
      "20/20 [==============================] - 3s 137ms/step - loss: 0.2849 - accuracy: 0.9020 - val_loss: 0.3416 - val_accuracy: 0.8630\n",
      "Epoch 3/20\n",
      "20/20 [==============================] - 3s 139ms/step - loss: 0.1508 - accuracy: 0.9578 - val_loss: 0.4131 - val_accuracy: 0.8498\n",
      "Epoch 4/20\n",
      "20/20 [==============================] - 3s 134ms/step - loss: 0.0933 - accuracy: 0.9792 - val_loss: 0.3857 - val_accuracy: 0.8632\n",
      "Epoch 5/20\n",
      "20/20 [==============================] - 3s 139ms/step - loss: 0.0519 - accuracy: 0.9926 - val_loss: 0.4494 - val_accuracy: 0.8602\n",
      "Epoch 6/20\n",
      "20/20 [==============================] - 3s 134ms/step - loss: 0.0314 - accuracy: 0.9958 - val_loss: 0.5255 - val_accuracy: 0.8544\n",
      "Epoch 7/20\n",
      "20/20 [==============================] - 3s 131ms/step - loss: 0.0211 - accuracy: 0.9977 - val_loss: 0.4890 - val_accuracy: 0.8602\n",
      "Epoch 8/20\n",
      "20/20 [==============================] - 3s 136ms/step - loss: 0.0104 - accuracy: 0.9994 - val_loss: 0.6634 - val_accuracy: 0.8480\n",
      "Epoch 9/20\n",
      "20/20 [==============================] - 2s 129ms/step - loss: 0.0083 - accuracy: 0.9996 - val_loss: 0.6170 - val_accuracy: 0.8574\n",
      "Epoch 10/20\n",
      "20/20 [==============================] - 3s 130ms/step - loss: 0.0070 - accuracy: 0.9988 - val_loss: 0.7533 - val_accuracy: 0.8530\n",
      "Epoch 11/20\n",
      "20/20 [==============================] - 2s 128ms/step - loss: 0.0026 - accuracy: 1.0000 - val_loss: 0.6950 - val_accuracy: 0.8576\n",
      "Epoch 12/20\n",
      "20/20 [==============================] - 2s 123ms/step - loss: 0.0016 - accuracy: 1.0000 - val_loss: 0.7235 - val_accuracy: 0.8586\n",
      "Epoch 13/20\n",
      "20/20 [==============================] - 2s 122ms/step - loss: 0.0013 - accuracy: 1.0000 - val_loss: 0.7590 - val_accuracy: 0.8590\n",
      "Epoch 14/20\n",
      "20/20 [==============================] - 2s 124ms/step - loss: 7.4726e-04 - accuracy: 1.0000 - val_loss: 0.8113 - val_accuracy: 0.8562\n",
      "Epoch 15/20\n",
      "20/20 [==============================] - 2s 125ms/step - loss: 4.4744e-04 - accuracy: 1.0000 - val_loss: 0.8999 - val_accuracy: 0.8560\n",
      "Epoch 16/20\n",
      "20/20 [==============================] - 2s 126ms/step - loss: 2.1713e-04 - accuracy: 1.0000 - val_loss: 1.0596 - val_accuracy: 0.8500\n",
      "Epoch 17/20\n",
      "20/20 [==============================] - 2s 128ms/step - loss: 0.0022 - accuracy: 0.9993 - val_loss: 1.0772 - val_accuracy: 0.8502\n",
      "Epoch 18/20\n",
      "20/20 [==============================] - 2s 119ms/step - loss: 9.8016e-05 - accuracy: 1.0000 - val_loss: 1.0740 - val_accuracy: 0.8502\n",
      "Epoch 19/20\n",
      "20/20 [==============================] - 2s 119ms/step - loss: 7.7913e-05 - accuracy: 1.0000 - val_loss: 1.0940 - val_accuracy: 0.8496\n",
      "Epoch 20/20\n",
      "20/20 [==============================] - 2s 118ms/step - loss: 5.5482e-05 - accuracy: 1.0000 - val_loss: 1.1159 - val_accuracy: 0.8484\n"
     ]
    }
   ],
   "source": [
    "history_idf = model_idf.fit(partial_x_train_idf, partial_y_train_idf, epochs = 20, batch_size = 512, validation_data=(x_val_idf, y_val_idf))"
   ]
  },
  {
   "cell_type": "code",
   "execution_count": 79,
   "metadata": {
    "scrolled": true
   },
   "outputs": [],
   "source": [
    "import matplotlib.pyplot as plt"
   ]
  },
  {
   "cell_type": "code",
   "execution_count": 80,
   "metadata": {},
   "outputs": [],
   "source": [
    "history_dict = history.history"
   ]
  },
  {
   "cell_type": "code",
   "execution_count": 81,
   "metadata": {},
   "outputs": [],
   "source": [
    "history_dict_oh = history_oh.history"
   ]
  },
  {
   "cell_type": "code",
   "execution_count": 82,
   "metadata": {},
   "outputs": [],
   "source": [
    "history_dict_idf = history_idf.history"
   ]
  },
  {
   "cell_type": "code",
   "execution_count": 83,
   "metadata": {},
   "outputs": [],
   "source": [
    "acc = history_dict['accuracy']"
   ]
  },
  {
   "cell_type": "code",
   "execution_count": 84,
   "metadata": {
    "scrolled": true
   },
   "outputs": [
    {
     "data": {
      "image/png": "[encoded data removed]",
      "text/plain": [
       "<Figure size 432x288 with 1 Axes>"
      ]
     },
     "metadata": {
      "needs_background": "light"
     },
     "output_type": "display_data"
    }
   ],
   "source": [
    "loss_values = history_dict['loss'] \n",
    "val_loss_values = history_dict['val_loss']\n",
    "epochs = range(1, len(acc) + 1)\n",
    "plt.plot(epochs, loss_values, 'bo', label='Training loss') \n",
    "plt.plot(epochs, val_loss_values, 'b', label='Validation loss')\n",
    "plt.title('Training and validation loss') \n",
    "plt.xlabel('Epochs')\n",
    "plt.ylabel('Loss') \n",
    "plt.legend()\n",
    "plt.show()"
   ]
  },
  {
   "cell_type": "code",
   "execution_count": 85,
   "metadata": {},
   "outputs": [
    {
     "data": {
      "image/png": "[encoded data removed]",
      "text/plain": [
       "<Figure size 432x288 with 1 Axes>"
      ]
     },
     "metadata": {
      "needs_background": "light"
     },
     "output_type": "display_data"
    }
   ],
   "source": [
    "plt.clf()\n",
    "val_acc = history_dict['val_accuracy']\n",
    "plt.plot(epochs, acc, 'bo', label='Training acc') \n",
    "plt.plot(epochs, val_acc, 'b', label='Validation acc')\n",
    "plt.title('Training and validation accuracy') \n",
    "plt.xlabel('Epochs')\n",
    "plt.ylabel('Accuracy') \n",
    "plt.legend()\n",
    "plt.show()"
   ]
  },
  {
   "cell_type": "code",
   "execution_count": 86,
   "metadata": {},
   "outputs": [],
   "source": [
    "acc_oh = history_dict['accuracy']"
   ]
  },
  {
   "cell_type": "code",
   "execution_count": 87,
   "metadata": {},
   "outputs": [
    {
     "data": {
      "image/png": "[encoded data removed]",
      "text/plain": [
       "<Figure size 432x288 with 1 Axes>"
      ]
     },
     "metadata": {
      "needs_background": "light"
     },
     "output_type": "display_data"
    }
   ],
   "source": [
    "plt.clf()\n",
    "loss_values_oh = history_dict_oh['loss'] \n",
    "val_loss_values_oh = history_dict_oh['val_loss']\n",
    "epochs_oh = range(1, len(acc_oh) + 1)\n",
    "plt.plot(epochs_oh, loss_values_oh, 'bo', label='Training loss') \n",
    "plt.plot(epochs_oh, val_loss_values_oh, 'b', label='Validation loss')\n",
    "plt.title('Training and validation loss') \n",
    "plt.xlabel('Epochs')\n",
    "plt.ylabel('Loss') \n",
    "plt.legend()\n",
    "plt.show()"
   ]
  },
  {
   "cell_type": "code",
   "execution_count": 88,
   "metadata": {},
   "outputs": [
    {
     "data": {
      "image/png": "[encoded data removed]",
      "text/plain": [
       "<Figure size 432x288 with 1 Axes>"
      ]
     },
     "metadata": {
      "needs_background": "light"
     },
     "output_type": "display_data"
    }
   ],
   "source": [
    "plt.clf()\n",
    "val_acc_oh = history_dict_oh['val_accuracy']\n",
    "plt.plot(epochs_oh, acc_oh, 'bo', label='Training acc') \n",
    "plt.plot(epochs_oh, val_acc_oh, 'b', label='Validation acc')\n",
    "plt.title('Training and validation accuracy') \n",
    "plt.xlabel('Epochs')\n",
    "plt.ylabel('Accuracy') \n",
    "plt.legend()\n",
    "plt.show()"
   ]
  },
  {
   "cell_type": "code",
   "execution_count": 89,
   "metadata": {
    "scrolled": true
   },
   "outputs": [],
   "source": [
    "acc_idf = history_dict_idf['accuracy']"
   ]
  },
  {
   "cell_type": "code",
   "execution_count": 90,
   "metadata": {},
   "outputs": [
    {
     "data": {
      "image/png": "[encoded data removed]",
      "text/plain": [
       "<Figure size 432x288 with 1 Axes>"
      ]
     },
     "metadata": {
      "needs_background": "light"
     },
     "output_type": "display_data"
    }
   ],
   "source": [
    "plt.clf()\n",
    "loss_values_idf = history_dict_idf['loss'] \n",
    "val_loss_values_idf = history_dict_idf['val_loss']\n",
    "epochs_idf = range(1, len(acc_idf) + 1)\n",
    "plt.plot(epochs_idf, loss_values_idf, 'bo', label='Training loss') \n",
    "plt.plot(epochs_idf, val_loss_values_idf, 'b', label='Validation loss')\n",
    "plt.title('Training and validation loss') \n",
    "plt.xlabel('Epochs')\n",
    "plt.ylabel('Loss') \n",
    "plt.legend()\n",
    "plt.show()"
   ]
  },
  {
   "cell_type": "code",
   "execution_count": 91,
   "metadata": {},
   "outputs": [
    {
     "data": {
      "image/png": "[encoded data removed]",
      "text/plain": [
       "<Figure size 432x288 with 1 Axes>"
      ]
     },
     "metadata": {
      "needs_background": "light"
     },
     "output_type": "display_data"
    }
   ],
   "source": [
    "plt.clf()\n",
    "val_acc_idf = history_dict_idf['val_accuracy']\n",
    "plt.plot(epochs_idf, acc_idf, 'bo', label='Training acc') \n",
    "plt.plot(epochs_idf, val_acc_idf, 'b', label='Validation acc')\n",
    "plt.title('Training and validation accuracy') \n",
    "plt.xlabel('Epochs')\n",
    "plt.ylabel('Accuracy') \n",
    "plt.legend()\n",
    "plt.show()"
   ]
  },
  {
   "cell_type": "code",
   "execution_count": 92,
   "metadata": {},
   "outputs": [],
   "source": [
    "model = models.Sequential()\n",
    "model.add(layers.Dense(16, activation='relu', input_shape=(len(rev_freq_dict),)))\n",
    "model.add(layers.Dense(16, activation='relu'))\n",
    "model.add(layers.Dense(1, activation='sigmoid'))"
   ]
  },
  {
   "cell_type": "code",
   "execution_count": 93,
   "metadata": {},
   "outputs": [],
   "source": [
    "model.compile(optimizer='rmsprop', loss='binary_crossentropy', metrics=['accuracy'])"
   ]
  },
  {
   "cell_type": "code",
   "execution_count": 94,
   "metadata": {
    "scrolled": false
   },
   "outputs": [
    {
     "name": "stdout",
     "output_type": "stream",
     "text": [
      "Epoch 1/4\n",
      "30/30 [==============================] - 4s 23ms/step - loss: 0.5683 - accuracy: 0.7350\n",
      "Epoch 2/4\n",
      "30/30 [==============================] - 1s 24ms/step - loss: 0.2848 - accuracy: 0.9154\n",
      "Epoch 3/4\n",
      "30/30 [==============================] - 1s 24ms/step - loss: 0.1979 - accuracy: 0.9416\n",
      "Epoch 4/4\n",
      "30/30 [==============================] - 1s 22ms/step - loss: 0.1418 - accuracy: 0.9597\n"
     ]
    },
    {
     "data": {
      "text/plain": [
       "<tensorflow.python.keras.callbacks.History at 0x171341ac670>"
      ]
     },
     "execution_count": 94,
     "metadata": {},
     "output_type": "execute_result"
    }
   ],
   "source": [
    "model.fit(x_train, y_train, epochs=4, batch_size=512)"
   ]
  },
  {
   "cell_type": "code",
   "execution_count": 95,
   "metadata": {
    "scrolled": true
   },
   "outputs": [
    {
     "name": "stdout",
     "output_type": "stream",
     "text": [
      "313/313 [==============================] - 4s 2ms/step - loss: 0.3224 - accuracy: 0.8786\n"
     ]
    }
   ],
   "source": [
    "results = model.evaluate(x_test,y_test)"
   ]
  },
  {
   "cell_type": "code",
   "execution_count": 96,
   "metadata": {
    "scrolled": false
   },
   "outputs": [
    {
     "data": {
      "text/plain": [
       "[0.32244497537612915, 0.878600001335144]"
      ]
     },
     "execution_count": 96,
     "metadata": {},
     "output_type": "execute_result"
    }
   ],
   "source": [
    "results"
   ]
  },
  {
   "cell_type": "code",
   "execution_count": 97,
   "metadata": {},
   "outputs": [],
   "source": [
    "bow_x_train = model.predict(x_train)"
   ]
  },
  {
   "cell_type": "code",
   "execution_count": 98,
   "metadata": {},
   "outputs": [],
   "source": [
    "bow_x_pred = model.predict(x_test)"
   ]
  },
  {
   "cell_type": "code",
   "execution_count": 99,
   "metadata": {
    "scrolled": true
   },
   "outputs": [
    {
     "data": {
      "text/plain": [
       "array([[0.9022555 ],\n",
       "       [0.60505617],\n",
       "       [0.05605876],\n",
       "       ...,\n",
       "       [0.59618485],\n",
       "       [0.08169729],\n",
       "       [0.989061  ]], dtype=float32)"
      ]
     },
     "execution_count": 99,
     "metadata": {},
     "output_type": "execute_result"
    }
   ],
   "source": [
    "bow_x_pred"
   ]
  },
  {
   "cell_type": "code",
   "execution_count": 100,
   "metadata": {},
   "outputs": [],
   "source": [
    "model_oh = models.Sequential()\n",
    "model_oh.add(layers.Dense(16, activation='relu', input_shape=(len(rev_freq_dict),)))\n",
    "model_oh.add(layers.Dense(16, activation='relu'))\n",
    "model_oh.add(layers.Dense(1, activation='sigmoid'))\n",
    "model_oh.compile(optimizer='rmsprop', loss='binary_crossentropy', metrics=['accuracy'])"
   ]
  },
  {
   "cell_type": "code",
   "execution_count": 101,
   "metadata": {
    "scrolled": true
   },
   "outputs": [
    {
     "name": "stdout",
     "output_type": "stream",
     "text": [
      "Epoch 1/5\n",
      "30/30 [==============================] - 5s 23ms/step - loss: 0.5811 - accuracy: 0.7282\n",
      "Epoch 2/5\n",
      "30/30 [==============================] - 1s 23ms/step - loss: 0.3059 - accuracy: 0.9061\n",
      "Epoch 3/5\n",
      "30/30 [==============================] - 1s 24ms/step - loss: 0.2088 - accuracy: 0.9373\n",
      "Epoch 4/5\n",
      "30/30 [==============================] - 1s 24ms/step - loss: 0.1541 - accuracy: 0.9551\n",
      "Epoch 5/5\n",
      "30/30 [==============================] - 1s 23ms/step - loss: 0.1165 - accuracy: 0.9684\n"
     ]
    },
    {
     "data": {
      "text/plain": [
       "<tensorflow.python.keras.callbacks.History at 0x17134704af0>"
      ]
     },
     "execution_count": 101,
     "metadata": {},
     "output_type": "execute_result"
    }
   ],
   "source": [
    "model_oh.fit(x_train_oh, y_train_oh, epochs=5, batch_size=512)"
   ]
  },
  {
   "cell_type": "code",
   "execution_count": 102,
   "metadata": {
    "scrolled": true
   },
   "outputs": [
    {
     "name": "stdout",
     "output_type": "stream",
     "text": [
      "313/313 [==============================] - 3s 2ms/step - loss: 0.3479 - accuracy: 0.8690\n"
     ]
    }
   ],
   "source": [
    "results_oh = model_oh.evaluate(x_test_oh,y_test_oh)"
   ]
  },
  {
   "cell_type": "code",
   "execution_count": 103,
   "metadata": {},
   "outputs": [
    {
     "data": {
      "text/plain": [
       "[0.3478933870792389, 0.8690000176429749]"
      ]
     },
     "execution_count": 103,
     "metadata": {},
     "output_type": "execute_result"
    }
   ],
   "source": [
    "results_oh"
   ]
  },
  {
   "cell_type": "code",
   "execution_count": 104,
   "metadata": {},
   "outputs": [],
   "source": [
    "oh_x_train = model.predict(x_train_oh)"
   ]
  },
  {
   "cell_type": "code",
   "execution_count": 105,
   "metadata": {},
   "outputs": [],
   "source": [
    "oh_x_pred = model_oh.predict(x_test_oh)"
   ]
  },
  {
   "cell_type": "code",
   "execution_count": 106,
   "metadata": {},
   "outputs": [],
   "source": [
    "model_idf = models.Sequential()\n",
    "model_idf.add(layers.Dense(16, activation='relu', input_shape=(len(rev_freq_dict),)))\n",
    "model_idf.add(layers.Dense(16, activation='relu'))\n",
    "model_idf.add(layers.Dense(1, activation='sigmoid'))\n",
    "model_idf.compile(optimizer='rmsprop', loss='binary_crossentropy', metrics=['accuracy'])"
   ]
  },
  {
   "cell_type": "code",
   "execution_count": 107,
   "metadata": {
    "scrolled": true
   },
   "outputs": [
    {
     "name": "stdout",
     "output_type": "stream",
     "text": [
      "Epoch 1/3\n",
      "30/30 [==============================] - 4s 22ms/step - loss: 0.5417 - accuracy: 0.7174\n",
      "Epoch 2/3\n",
      "30/30 [==============================] - 1s 23ms/step - loss: 0.2138 - accuracy: 0.9282\n",
      "Epoch 3/3\n",
      "30/30 [==============================] - 1s 21ms/step - loss: 0.1301 - accuracy: 0.9627\n"
     ]
    },
    {
     "data": {
      "text/plain": [
       "<tensorflow.python.keras.callbacks.History at 0x17136cacd90>"
      ]
     },
     "execution_count": 107,
     "metadata": {},
     "output_type": "execute_result"
    }
   ],
   "source": [
    "model_idf.fit(x_train_idf, y_train_idf, epochs=3, batch_size=512)"
   ]
  },
  {
   "cell_type": "code",
   "execution_count": 108,
   "metadata": {
    "scrolled": false
   },
   "outputs": [
    {
     "name": "stdout",
     "output_type": "stream",
     "text": [
      "313/313 [==============================] - 3s 2ms/step - loss: 0.3280 - accuracy: 0.8734\n"
     ]
    }
   ],
   "source": [
    "results_idf = model_idf.evaluate(x_test_idf,y_test_idf)"
   ]
  },
  {
   "cell_type": "code",
   "execution_count": 109,
   "metadata": {
    "scrolled": true
   },
   "outputs": [
    {
     "data": {
      "text/plain": [
       "[0.32795679569244385, 0.8733999729156494]"
      ]
     },
     "execution_count": 109,
     "metadata": {},
     "output_type": "execute_result"
    }
   ],
   "source": [
    "results_idf"
   ]
  },
  {
   "cell_type": "code",
   "execution_count": 110,
   "metadata": {},
   "outputs": [],
   "source": [
    "idf_x_train = model.predict(x_train_idf)"
   ]
  },
  {
   "cell_type": "code",
   "execution_count": 111,
   "metadata": {},
   "outputs": [],
   "source": [
    "idf_x_pred = model_idf.predict(x_test_idf)"
   ]
  },
  {
   "attachments": {
    "image.png": {
     "image/png": "[encoded data removed]"
    }
   },
   "cell_type": "markdown",
   "metadata": {},
   "source": [
    "![image.png](attachment:image.png)"
   ]
  },
  {
   "cell_type": "markdown",
   "metadata": {},
   "source": [
    "##### 앙상블 사용"
   ]
  },
  {
   "cell_type": "code",
   "execution_count": 131,
   "metadata": {},
   "outputs": [],
   "source": [
    "from sklearn.linear_model import LogisticRegression\n",
    "from sklearn.ensemble import RandomForestClassifier\n",
    "import xgboost as xgb\n",
    "from sklearn.metrics import f1_score, accuracy_score, recall_score, precision_score, roc_auc_score, auc"
   ]
  },
  {
   "cell_type": "code",
   "execution_count": 113,
   "metadata": {},
   "outputs": [],
   "source": [
    "bow = np.ravel(bow_x_train)\n",
    "oh = np.ravel(oh_x_train)\n",
    "idf = np.ravel(idf_x_train)"
   ]
  },
  {
   "cell_type": "code",
   "execution_count": 114,
   "metadata": {},
   "outputs": [],
   "source": [
    "x_train_ml = pd.DataFrame([bow, oh, idf])"
   ]
  },
  {
   "cell_type": "code",
   "execution_count": 115,
   "metadata": {
    "scrolled": true
   },
   "outputs": [],
   "source": [
    "x_train_ml = x_train_ml.transpose()"
   ]
  },
  {
   "cell_type": "code",
   "execution_count": 116,
   "metadata": {
    "scrolled": true
   },
   "outputs": [
    {
     "name": "stdout",
     "output_type": "stream",
     "text": [
      "<class 'pandas.core.frame.DataFrame'>\n",
      "RangeIndex: 15000 entries, 0 to 14999\n",
      "Data columns (total 3 columns):\n",
      " #   Column  Non-Null Count  Dtype  \n",
      "---  ------  --------------  -----  \n",
      " 0   0       15000 non-null  float64\n",
      " 1   1       15000 non-null  float64\n",
      " 2   2       15000 non-null  float64\n",
      "dtypes: float64(3)\n",
      "memory usage: 351.7 KB\n"
     ]
    }
   ],
   "source": [
    "x_train_ml.info()"
   ]
  },
  {
   "cell_type": "code",
   "execution_count": 117,
   "metadata": {},
   "outputs": [],
   "source": [
    "y_train_ml = y_train"
   ]
  },
  {
   "cell_type": "code",
   "execution_count": 118,
   "metadata": {},
   "outputs": [],
   "source": [
    "bow_pred = np.ravel(bow_x_pred)\n",
    "oh_pred = np.ravel(oh_x_pred)\n",
    "idf_pred = np.ravel(idf_x_pred)"
   ]
  },
  {
   "cell_type": "code",
   "execution_count": 119,
   "metadata": {},
   "outputs": [],
   "source": [
    "x_test_ml = pd.DataFrame([bow_pred, oh_pred, idf_pred])"
   ]
  },
  {
   "cell_type": "code",
   "execution_count": 120,
   "metadata": {},
   "outputs": [],
   "source": [
    "x_test_ml = x_test_ml.transpose()"
   ]
  },
  {
   "cell_type": "code",
   "execution_count": 121,
   "metadata": {},
   "outputs": [],
   "source": [
    "y_test_ml = y_test"
   ]
  },
  {
   "cell_type": "markdown",
   "metadata": {},
   "source": [
    "##### Logistic Regression"
   ]
  },
  {
   "cell_type": "code",
   "execution_count": 122,
   "metadata": {},
   "outputs": [],
   "source": [
    "LR = LogisticRegression()"
   ]
  },
  {
   "cell_type": "code",
   "execution_count": 123,
   "metadata": {},
   "outputs": [
    {
     "data": {
      "text/plain": [
       "LogisticRegression()"
      ]
     },
     "execution_count": 123,
     "metadata": {},
     "output_type": "execute_result"
    }
   ],
   "source": [
    "LR.fit(x_train_ml, y_train_ml)"
   ]
  },
  {
   "cell_type": "code",
   "execution_count": 124,
   "metadata": {},
   "outputs": [],
   "source": [
    "pred_rl = LR.predict(x_test_ml)"
   ]
  },
  {
   "cell_type": "code",
   "execution_count": 125,
   "metadata": {},
   "outputs": [
    {
     "data": {
      "text/plain": [
       "0.8787665020659076"
      ]
     },
     "execution_count": 125,
     "metadata": {},
     "output_type": "execute_result"
    }
   ],
   "source": [
    "f1_score(y_test_ml, pred_rl)"
   ]
  },
  {
   "cell_type": "code",
   "execution_count": 126,
   "metadata": {},
   "outputs": [
    {
     "data": {
      "text/plain": [
       "0.8797"
      ]
     },
     "execution_count": 126,
     "metadata": {},
     "output_type": "execute_result"
    }
   ],
   "source": [
    "accuracy_score(y_test_ml, pred_rl)"
   ]
  },
  {
   "cell_type": "code",
   "execution_count": 127,
   "metadata": {},
   "outputs": [
    {
     "data": {
      "text/plain": [
       "0.8697386794334729"
      ]
     },
     "execution_count": 127,
     "metadata": {},
     "output_type": "execute_result"
    }
   ],
   "source": [
    "recall_score(y_test_ml, pred_rl)"
   ]
  },
  {
   "cell_type": "code",
   "execution_count": 128,
   "metadata": {},
   "outputs": [
    {
     "data": {
      "text/plain": [
       "0.8879837067209776"
      ]
     },
     "execution_count": 128,
     "metadata": {},
     "output_type": "execute_result"
    }
   ],
   "source": [
    "precision_score(y_test_ml, pred_rl)"
   ]
  },
  {
   "cell_type": "code",
   "execution_count": 129,
   "metadata": {},
   "outputs": [],
   "source": [
    "fpr, tpr, thresholds = roc_curve(y_test_ml, pred_rl)"
   ]
  },
  {
   "cell_type": "code",
   "execution_count": 132,
   "metadata": {},
   "outputs": [
    {
     "data": {
      "text/plain": [
       "0.8797259669475366"
      ]
     },
     "execution_count": 132,
     "metadata": {},
     "output_type": "execute_result"
    }
   ],
   "source": [
    "auc(fpr, tpr)"
   ]
  },
  {
   "cell_type": "code",
   "execution_count": 133,
   "metadata": {
    "scrolled": true
   },
   "outputs": [
    {
     "data": {
      "image/png": "[encoded data removed]",
      "text/plain": [
       "<Figure size 432x288 with 1 Axes>"
      ]
     },
     "metadata": {
      "needs_background": "light"
     },
     "output_type": "display_data"
    }
   ],
   "source": [
    "plt.clf()\n",
    "plt.plot(fpr, tpr, 'o-', label=\"ROC Curve\")\n",
    "plt.plot([0,1],[0,1], 'k--')\n",
    "plt.xlabel(\"fallout\")\n",
    "plt.ylabel(\"recall\")\n",
    "plt.title(\"ROC curve\")\n",
    "plt.show()"
   ]
  },
  {
   "cell_type": "markdown",
   "metadata": {},
   "source": [
    "##### Random forest"
   ]
  },
  {
   "cell_type": "code",
   "execution_count": 134,
   "metadata": {},
   "outputs": [],
   "source": [
    "RF = RandomForestClassifier()"
   ]
  },
  {
   "cell_type": "code",
   "execution_count": 135,
   "metadata": {},
   "outputs": [
    {
     "data": {
      "text/plain": [
       "RandomForestClassifier()"
      ]
     },
     "execution_count": 135,
     "metadata": {},
     "output_type": "execute_result"
    }
   ],
   "source": [
    "RF.fit(x_train_ml, y_train_ml)"
   ]
  },
  {
   "cell_type": "code",
   "execution_count": 136,
   "metadata": {},
   "outputs": [],
   "source": [
    "pred_rf = RF.predict(x_test_ml)"
   ]
  },
  {
   "cell_type": "code",
   "execution_count": 137,
   "metadata": {},
   "outputs": [
    {
     "data": {
      "text/plain": [
       "0.8748317631224765"
      ]
     },
     "execution_count": 137,
     "metadata": {},
     "output_type": "execute_result"
    }
   ],
   "source": [
    "f1_score(y_test_ml, pred_rf)"
   ]
  },
  {
   "cell_type": "code",
   "execution_count": 138,
   "metadata": {},
   "outputs": [
    {
     "data": {
      "text/plain": [
       "0.8698"
      ]
     },
     "execution_count": 138,
     "metadata": {},
     "output_type": "execute_result"
    }
   ],
   "source": [
    "accuracy_score(y_test_ml, pred_rf)"
   ]
  },
  {
   "cell_type": "code",
   "execution_count": 139,
   "metadata": {},
   "outputs": [
    {
     "data": {
      "text/plain": [
       "0.9076401356473169"
      ]
     },
     "execution_count": 139,
     "metadata": {},
     "output_type": "execute_result"
    }
   ],
   "source": [
    "recall_score(y_test_ml, pred_rf)"
   ]
  },
  {
   "cell_type": "code",
   "execution_count": 140,
   "metadata": {},
   "outputs": [
    {
     "data": {
      "text/plain": [
       "0.844312488402301"
      ]
     },
     "execution_count": 140,
     "metadata": {},
     "output_type": "execute_result"
    }
   ],
   "source": [
    "precision_score(y_test_ml, pred_rf)"
   ]
  },
  {
   "cell_type": "code",
   "execution_count": 141,
   "metadata": {},
   "outputs": [],
   "source": [
    "fpr, tpr, thresholds = roc_curve(y_test_ml, pred_rf)"
   ]
  },
  {
   "cell_type": "code",
   "execution_count": 142,
   "metadata": {},
   "outputs": [
    {
     "data": {
      "text/plain": [
       "0.8697013591811881"
      ]
     },
     "execution_count": 142,
     "metadata": {},
     "output_type": "execute_result"
    }
   ],
   "source": [
    "auc(fpr, tpr)"
   ]
  },
  {
   "cell_type": "code",
   "execution_count": 143,
   "metadata": {},
   "outputs": [
    {
     "data": {
      "image/png": "[encoded data removed]",
      "text/plain": [
       "<Figure size 432x288 with 1 Axes>"
      ]
     },
     "metadata": {
      "needs_background": "light"
     },
     "output_type": "display_data"
    }
   ],
   "source": [
    "plt.clf()\n",
    "plt.plot(fpr, tpr, 'o-', label=\"ROC Curve\")\n",
    "plt.plot([0,1],[0,1], 'k--')\n",
    "plt.xlabel(\"fallout\")\n",
    "plt.ylabel(\"recall\")\n",
    "plt.title(\"ROC curve\")\n",
    "plt.show()"
   ]
  },
  {
   "cell_type": "code",
   "execution_count": 144,
   "metadata": {},
   "outputs": [],
   "source": [
    "XGB = xgb.XGBClassifier()"
   ]
  },
  {
   "cell_type": "code",
   "execution_count": 145,
   "metadata": {},
   "outputs": [
    {
     "name": "stderr",
     "output_type": "stream",
     "text": [
      "C:\\Users\\ba874\\anaconda3\\lib\\site-packages\\xgboost\\sklearn.py:888: UserWarning: The use of label encoder in XGBClassifier is deprecated and will be removed in a future release. To remove this warning, do the following: 1) Pass option use_label_encoder=False when constructing XGBClassifier object; and 2) Encode your labels (y) as integers starting with 0, i.e. 0, 1, 2, ..., [num_class - 1].\n",
      "  warnings.warn(label_encoder_deprecation_msg, UserWarning)\n"
     ]
    },
    {
     "name": "stdout",
     "output_type": "stream",
     "text": [
      "[00:47:59] WARNING: C:/Users/Administrator/workspace/xgboost-win64_release_1.3.0/src/learner.cc:1061: Starting in XGBoost 1.3.0, the default evaluation metric used with the objective 'binary:logistic' was changed from 'error' to 'logloss'. Explicitly set eval_metric if you'd like to restore the old behavior.\n"
     ]
    },
    {
     "data": {
      "text/plain": [
       "XGBClassifier(base_score=0.5, booster='gbtree', colsample_bylevel=1,\n",
       "              colsample_bynode=1, colsample_bytree=1, gamma=0, gpu_id=-1,\n",
       "              importance_type='gain', interaction_constraints='',\n",
       "              learning_rate=0.300000012, max_delta_step=0, max_depth=6,\n",
       "              min_child_weight=1, missing=nan, monotone_constraints='()',\n",
       "              n_estimators=100, n_jobs=8, num_parallel_tree=1, random_state=0,\n",
       "              reg_alpha=0, reg_lambda=1, scale_pos_weight=1, subsample=1,\n",
       "              tree_method='exact', validate_parameters=1, verbosity=None)"
      ]
     },
     "execution_count": 145,
     "metadata": {},
     "output_type": "execute_result"
    }
   ],
   "source": [
    "XGB.fit(x_train_ml, y_train_ml)"
   ]
  },
  {
   "cell_type": "code",
   "execution_count": 146,
   "metadata": {},
   "outputs": [],
   "source": [
    "pred_xgb = XGB.predict(x_test_ml)"
   ]
  },
  {
   "cell_type": "code",
   "execution_count": 147,
   "metadata": {},
   "outputs": [
    {
     "data": {
      "text/plain": [
       "0.8276462395543176"
      ]
     },
     "execution_count": 147,
     "metadata": {},
     "output_type": "execute_result"
    }
   ],
   "source": [
    "f1_score(y_test_ml, pred_xgb)"
   ]
  },
  {
   "cell_type": "code",
   "execution_count": 148,
   "metadata": {},
   "outputs": [
    {
     "data": {
      "text/plain": [
       "0.802"
      ]
     },
     "execution_count": 148,
     "metadata": {},
     "output_type": "execute_result"
    }
   ],
   "source": [
    "accuracy_score(y_test_ml, pred_xgb)"
   ]
  },
  {
   "cell_type": "code",
   "execution_count": 149,
   "metadata": {},
   "outputs": [
    {
     "data": {
      "text/plain": [
       "0.9483343307400758"
      ]
     },
     "execution_count": 149,
     "metadata": {},
     "output_type": "execute_result"
    }
   ],
   "source": [
    "recall_score(y_test_ml, pred_xgb)"
   ]
  },
  {
   "cell_type": "code",
   "execution_count": 150,
   "metadata": {},
   "outputs": [
    {
     "data": {
      "text/plain": [
       "0.7342084942084942"
      ]
     },
     "execution_count": 150,
     "metadata": {},
     "output_type": "execute_result"
    }
   ],
   "source": [
    "precision_score(y_test_ml, pred_xgb)"
   ]
  },
  {
   "cell_type": "code",
   "execution_count": 151,
   "metadata": {},
   "outputs": [],
   "source": [
    "fpr, tpr, thresholds = roc_curve(y_test_ml, pred_xgb)"
   ]
  },
  {
   "cell_type": "code",
   "execution_count": 152,
   "metadata": {},
   "outputs": [
    {
     "data": {
      "text/plain": [
       "0.8016185389413233"
      ]
     },
     "execution_count": 152,
     "metadata": {},
     "output_type": "execute_result"
    }
   ],
   "source": [
    "auc(fpr, tpr)"
   ]
  },
  {
   "cell_type": "code",
   "execution_count": 153,
   "metadata": {},
   "outputs": [
    {
     "data": {
      "image/png": "[encoded data removed]",
      "text/plain": [
       "<Figure size 432x288 with 1 Axes>"
      ]
     },
     "metadata": {
      "needs_background": "light"
     },
     "output_type": "display_data"
    }
   ],
   "source": [
    "plt.clf()\n",
    "plt.plot(fpr, tpr, 'o-', label=\"ROC Curve\")\n",
    "plt.plot([0,1],[0,1], 'k--')\n",
    "plt.xlabel(\"fallout\")\n",
    "plt.ylabel(\"recall\")\n",
    "plt.title(\"ROC curve\")\n",
    "plt.show()"
   ]
  },
  {
   "attachments": {
    "image.png": {
     "image/png": "[encoded data removed]"
    }
   },
   "cell_type": "markdown",
   "metadata": {},
   "source": [
    "![image.png](attachment:image.png)"
   ]
  }
 ],
 "metadata": {
  "kernelspec": {
   "display_name": "Python 3",
   "language": "python",
   "name": "python3"
  },
  "language_info": {
   "codemirror_mode": {
    "name": "ipython",
    "version": 3
   },
   "file_extension": ".py",
   "mimetype": "text/x-python",
   "name": "python",
   "nbconvert_exporter": "python",
   "pygments_lexer": "ipython3",
   "version": "3.8.5"
  }
 },
 "nbformat": 4,
 "nbformat_minor": 4
}
