{
 "cells": [
  {
   "cell_type": "code",
   "execution_count": 1,
   "metadata": {},
   "outputs": [],
   "source": [
    "import numpy as np\n",
    "import pandas as pd"
   ]
  },
  {
   "cell_type": "code",
   "execution_count": 2,
   "metadata": {},
   "outputs": [],
   "source": [
    "df_raw = pd.read_excel('./real data.xlsx', header = 2)\n",
    "df_raw.head()\n",
    "df_raw = df_raw.drop([0,1])\n",
    "df1 = df_raw[['Age', 'Sex', 'ASA', 'BMI', 'DM_history', 'Pulmonary_disease', 'Liver_disease',\n",
    "              'Heart_disease', 'Kidney_disease',\n",
    "              'Initial_CEA', 'Hereditary_colorectal_tumor', 'Obstruction', 'Emergency',\n",
    "               'pT', 'LVI', 'PNI','Postop_Chemotherapy',\n",
    "              'Distal resection margin', 'Radial margin', 'pN', 'Harvested_LN', 'Positive_LN', 'pM',\n",
    "              'pTNM', 'K-ras', 'N-ras', 'BRAF', 'Early_Complication',\n",
    "              'Postop_Chemo_Regimen']]\n",
    "df = df1.copy()"
   ]
  },
  {
   "cell_type": "code",
   "execution_count": 3,
   "metadata": {},
   "outputs": [],
   "source": [
    "df['Postop_Chemo_Regimen']=df['Postop_Chemo_Regimen'].fillna(0)"
   ]
  },
  {
   "cell_type": "code",
   "execution_count": 4,
   "metadata": {},
   "outputs": [],
   "source": [
    "df = df[df['Postop_Chemo_Regimen'] != '5 + 7']\n",
    "df = df[df['Postop_Chemo_Regimen'] != '5 + 6']\n",
    "df = df[df['Postop_Chemo_Regimen'] != '8']\n",
    "df = df[df['Postop_Chemo_Regimen'] != '3 + 7']\n",
    "df = df[df['Postop_Chemo_Regimen'] != '3 + 6']\n",
    "df = df[df['Postop_Chemo_Regimen'] != '8 (D-F cap)']\n",
    "df = df[df['Postop_Chemo_Regimen'] != '2 + 8']\n",
    "df = df[df['Postop_Chemo_Regimen'] != '3+7']\n",
    "df = df[df['Postop_Chemo_Regimen'] != '1 + 8(MMC)']\n",
    "df = df[df['Postop_Chemo_Regimen'] != '8 (Teroful)']\n",
    "df = df[df['Postop_Chemo_Regimen'] != '8(UFT)']\n",
    "df = df[df['Postop_Chemo_Regimen'] != '8 (Helixor only)']\n",
    "df = df[df['Postop_Chemo_Regimen'] != 7]\n",
    "df = df[df['Postop_Chemo_Regimen'] != 8]\n",
    "df = df[df['Postop_Chemo_Regimen'] != '5+7']"
   ]
  },
  {
   "cell_type": "code",
   "execution_count": 5,
   "metadata": {},
   "outputs": [],
   "source": [
    "temp = df.copy()"
   ]
  },
  {
   "cell_type": "code",
   "execution_count": 6,
   "metadata": {},
   "outputs": [],
   "source": [
    "temp[\"Heart_disease0\"] = 0\n",
    "temp[\"Heart_disease1\"] = 0\n",
    "temp[\"Heart_disease2\"] = 0\n",
    "temp[\"Heart_disease3\"] = 0\n",
    "temp[\"Heart_disease4\"] = 0\n",
    "temp[\"Heart_disease5\"] = 0"
   ]
  },
  {
   "cell_type": "code",
   "execution_count": 7,
   "metadata": {},
   "outputs": [],
   "source": [
    "temp = temp.reset_index()"
   ]
  },
  {
   "cell_type": "code",
   "execution_count": 8,
   "metadata": {},
   "outputs": [],
   "source": [
    "i = 0"
   ]
  },
  {
   "cell_type": "code",
   "execution_count": 9,
   "metadata": {},
   "outputs": [
    {
     "name": "stderr",
     "output_type": "stream",
     "text": [
      "<ipython-input-9-717400a913d1>:8: SettingWithCopyWarning: \n",
      "A value is trying to be set on a copy of a slice from a DataFrame\n",
      "\n",
      "See the caveats in the documentation: https://pandas.pydata.org/pandas-docs/stable/user_guide/indexing.html#returning-a-view-versus-a-copy\n",
      "  temp[\"Heart_disease0\"][i] = 1\n",
      "<ipython-input-9-717400a913d1>:10: SettingWithCopyWarning: \n",
      "A value is trying to be set on a copy of a slice from a DataFrame\n",
      "\n",
      "See the caveats in the documentation: https://pandas.pydata.org/pandas-docs/stable/user_guide/indexing.html#returning-a-view-versus-a-copy\n",
      "  temp[\"Heart_disease1\"][i] = 1\n",
      "<ipython-input-9-717400a913d1>:18: SettingWithCopyWarning: \n",
      "A value is trying to be set on a copy of a slice from a DataFrame\n",
      "\n",
      "See the caveats in the documentation: https://pandas.pydata.org/pandas-docs/stable/user_guide/indexing.html#returning-a-view-versus-a-copy\n",
      "  temp[\"Heart_disease5\"][i] = 1\n",
      "<ipython-input-9-717400a913d1>:24: SettingWithCopyWarning: \n",
      "A value is trying to be set on a copy of a slice from a DataFrame\n",
      "\n",
      "See the caveats in the documentation: https://pandas.pydata.org/pandas-docs/stable/user_guide/indexing.html#returning-a-view-versus-a-copy\n",
      "  temp[\"Heart_disease1\"][i] = 1\n",
      "<ipython-input-9-717400a913d1>:32: SettingWithCopyWarning: \n",
      "A value is trying to be set on a copy of a slice from a DataFrame\n",
      "\n",
      "See the caveats in the documentation: https://pandas.pydata.org/pandas-docs/stable/user_guide/indexing.html#returning-a-view-versus-a-copy\n",
      "  temp[\"Heart_disease5\"][i] = 1\n",
      "<ipython-input-9-717400a913d1>:30: SettingWithCopyWarning: \n",
      "A value is trying to be set on a copy of a slice from a DataFrame\n",
      "\n",
      "See the caveats in the documentation: https://pandas.pydata.org/pandas-docs/stable/user_guide/indexing.html#returning-a-view-versus-a-copy\n",
      "  temp[\"Heart_disease4\"][i] = 1\n",
      "<ipython-input-9-717400a913d1>:26: SettingWithCopyWarning: \n",
      "A value is trying to be set on a copy of a slice from a DataFrame\n",
      "\n",
      "See the caveats in the documentation: https://pandas.pydata.org/pandas-docs/stable/user_guide/indexing.html#returning-a-view-versus-a-copy\n",
      "  temp[\"Heart_disease2\"][i] = 1\n",
      "<ipython-input-9-717400a913d1>:28: SettingWithCopyWarning: \n",
      "A value is trying to be set on a copy of a slice from a DataFrame\n",
      "\n",
      "See the caveats in the documentation: https://pandas.pydata.org/pandas-docs/stable/user_guide/indexing.html#returning-a-view-versus-a-copy\n",
      "  temp[\"Heart_disease3\"][i] = 1\n",
      "<ipython-input-9-717400a913d1>:16: SettingWithCopyWarning: \n",
      "A value is trying to be set on a copy of a slice from a DataFrame\n",
      "\n",
      "See the caveats in the documentation: https://pandas.pydata.org/pandas-docs/stable/user_guide/indexing.html#returning-a-view-versus-a-copy\n",
      "  temp[\"Heart_disease4\"][i] = 1\n",
      "<ipython-input-9-717400a913d1>:14: SettingWithCopyWarning: \n",
      "A value is trying to be set on a copy of a slice from a DataFrame\n",
      "\n",
      "See the caveats in the documentation: https://pandas.pydata.org/pandas-docs/stable/user_guide/indexing.html#returning-a-view-versus-a-copy\n",
      "  temp[\"Heart_disease3\"][i] = 1\n",
      "<ipython-input-9-717400a913d1>:12: SettingWithCopyWarning: \n",
      "A value is trying to be set on a copy of a slice from a DataFrame\n",
      "\n",
      "See the caveats in the documentation: https://pandas.pydata.org/pandas-docs/stable/user_guide/indexing.html#returning-a-view-versus-a-copy\n",
      "  temp[\"Heart_disease2\"][i] = 1\n"
     ]
    }
   ],
   "source": [
    "for value in temp[\"Heart_disease\"]:\n",
    "    a = []\n",
    "    a.append(value)\n",
    "    \n",
    "    if type(a[0]) == type(1):\n",
    "        for v in a:\n",
    "            if v == 0:\n",
    "                temp[\"Heart_disease0\"][i] = 1\n",
    "            elif v == 1:\n",
    "                temp[\"Heart_disease1\"][i] = 1\n",
    "            elif v == 2:\n",
    "                temp[\"Heart_disease2\"][i] = 1\n",
    "            elif v == 3:\n",
    "                temp[\"Heart_disease3\"][i] = 1\n",
    "            elif v == 4:\n",
    "                temp[\"Heart_disease4\"][i] = 1\n",
    "            elif v == 5:\n",
    "                temp[\"Heart_disease5\"][i] = 1\n",
    "    else :\n",
    "        for v in a[0]:\n",
    "            if v == '0':\n",
    "                temp[\"Heart_disease0\"][i] = 1\n",
    "            elif v == '1':\n",
    "                temp[\"Heart_disease1\"][i] = 1\n",
    "            elif v == '2':\n",
    "                temp[\"Heart_disease2\"][i] = 1\n",
    "            elif v == '3':\n",
    "                temp[\"Heart_disease3\"][i] = 1\n",
    "            elif v == '4':\n",
    "                temp[\"Heart_disease4\"][i] = 1\n",
    "            elif v == '5':\n",
    "                temp[\"Heart_disease5\"][i] = 1\n",
    "    \n",
    "    i += 1"
   ]
  },
  {
   "cell_type": "code",
   "execution_count": 10,
   "metadata": {},
   "outputs": [],
   "source": [
    "df = temp"
   ]
  },
  {
   "cell_type": "code",
   "execution_count": 11,
   "metadata": {},
   "outputs": [],
   "source": [
    "df1 = df.copy()"
   ]
  },
  {
   "cell_type": "code",
   "execution_count": 12,
   "metadata": {},
   "outputs": [],
   "source": [
    "df1 = df1.drop(['Heart_disease'], axis = 1)"
   ]
  },
  {
   "cell_type": "code",
   "execution_count": 13,
   "metadata": {},
   "outputs": [],
   "source": [
    "df = df1"
   ]
  },
  {
   "cell_type": "code",
   "execution_count": 14,
   "metadata": {},
   "outputs": [],
   "source": [
    "df1 = df.dropna(axis = 0)"
   ]
  },
  {
   "cell_type": "code",
   "execution_count": 15,
   "metadata": {},
   "outputs": [],
   "source": [
    "df = df1"
   ]
  },
  {
   "cell_type": "code",
   "execution_count": 16,
   "metadata": {},
   "outputs": [],
   "source": [
    "df = df[df[\"ASA\"] != 9999]"
   ]
  },
  {
   "cell_type": "code",
   "execution_count": 17,
   "metadata": {},
   "outputs": [],
   "source": [
    "df = df[df[\"Kidney_disease\"] != 2] "
   ]
  },
  {
   "cell_type": "code",
   "execution_count": 18,
   "metadata": {},
   "outputs": [],
   "source": [
    "df = df[df[\"Initial_CEA\"] != 9999.00] "
   ]
  },
  {
   "cell_type": "code",
   "execution_count": 19,
   "metadata": {},
   "outputs": [],
   "source": [
    "df = df[df[\"Obstruction\"] != 9999] "
   ]
  },
  {
   "cell_type": "code",
   "execution_count": 20,
   "metadata": {},
   "outputs": [],
   "source": [
    "df = df[df[\"pN\"] != 9999]"
   ]
  },
  {
   "cell_type": "code",
   "execution_count": 21,
   "metadata": {},
   "outputs": [],
   "source": [
    "df = df[df[\"Positive_LN\"] != 9999]"
   ]
  },
  {
   "cell_type": "markdown",
   "metadata": {},
   "source": [
    "df[\"Age\"] = df[\"Age\"].astype(\"int\")\n",
    "df[\"BMI\"] = df[\"BMI\"].astype(\"int\")\n",
    "df[\"Harvested_LN\"] = df[\"Harvested_LN\"].astype(\"int\")"
   ]
  },
  {
   "cell_type": "markdown",
   "metadata": {},
   "source": [
    "df[\"Age\"] = (df[\"Age\"] - df[\"Age\"].min()) / (df[\"Age\"].max() - df[\"Age\"].min())\n",
    "df[\"BMI\"] = (df[\"BMI\"] - df[\"BMI\"].min()) / (df[\"BMI\"].max() - df[\"BMI\"].min())\n",
    "df[\"Harvested_LN\"] = (df[\"Harvested_LN\"] - df[\"Harvested_LN\"].min()) / (df[\"Harvested_LN\"].max() - df[\"Harvested_LN\"].min())"
   ]
  },
  {
   "cell_type": "markdown",
   "metadata": {},
   "source": [
    "df[\"Initial_CEA\"] = df[\"Initial_CEA\"].astype(\"int\")\n",
    "df[\"Initial_CEA\"] = (df[\"Initial_CEA\"] - df[\"Initial_CEA\"].min()) / (df[\"Initial_CEA\"].max() - df[\"Initial_CEA\"].min())"
   ]
  },
  {
   "cell_type": "markdown",
   "metadata": {},
   "source": [
    "df[\"Harvested_LN\"] = df[\"Harvested_LN\"].astype(\"int\")\n",
    "df[\"Harvested_LN\"] = (df[\"Harvested_LN\"] - df[\"Harvested_LN\"].min()) / (df[\"Harvested_LN\"].max() - df[\"Harvested_LN\"].min())\n",
    "df[\"Positive_LN\"] = df[\"Positive_LN\"].astype(\"int\")\n",
    "df[\"Positive_LN\"] = (df[\"Positive_LN\"] - df[\"Positive_LN\"].min()) / (df[\"Positive_LN\"].max() - df[\"Positive_LN\"].min())"
   ]
  },
  {
   "cell_type": "markdown",
   "metadata": {},
   "source": [
    "### 항암요법 0"
   ]
  },
  {
   "cell_type": "code",
   "execution_count": 79,
   "metadata": {},
   "outputs": [],
   "source": [
    "dfn0 = df[df['Postop_Chemo_Regimen'] != 0]"
   ]
  },
  {
   "cell_type": "code",
   "execution_count": 80,
   "metadata": {},
   "outputs": [],
   "source": [
    "target_col = 'Postop_Chemo_Regimen'\n",
    "target = dfn0[target_col]\n",
    "\n",
    "features = dfn0[['Age', 'Sex', 'ASA', 'BMI', 'DM_history', 'Pulmonary_disease', 'Liver_disease',\n",
    "            'Kidney_disease', \n",
    "              'Initial_CEA', 'Hereditary_colorectal_tumor', 'Obstruction', 'Emergency',\n",
    "               'pT', 'LVI', 'PNI','Postop_Chemotherapy',\n",
    "              'Distal resection margin', 'Radial margin', 'pN', 'pM',\n",
    "              'pTNM', 'K-ras', 'N-ras', 'BRAF', 'Early_Complication']]"
   ]
  },
  {
   "cell_type": "code",
   "execution_count": 81,
   "metadata": {},
   "outputs": [],
   "source": [
    "from sklearn.model_selection import train_test_split\n",
    "X_train, X_test, y_train, y_test = train_test_split(\n",
    "    features, target, test_size = 0.2, random_state=0\n",
    ")"
   ]
  },
  {
   "cell_type": "code",
   "execution_count": 82,
   "metadata": {},
   "outputs": [],
   "source": [
    "from imblearn.over_sampling import SMOTE"
   ]
  },
  {
   "cell_type": "code",
   "execution_count": 83,
   "metadata": {},
   "outputs": [],
   "source": [
    "oversample = SMOTE()"
   ]
  },
  {
   "cell_type": "code",
   "execution_count": 84,
   "metadata": {},
   "outputs": [],
   "source": [
    "y_train = y_train.astype('int')\n",
    "y_test=y_test.astype('int')"
   ]
  },
  {
   "cell_type": "code",
   "execution_count": 105,
   "metadata": {},
   "outputs": [],
   "source": [
    "X_train_sm, y_train_sm = oversample.fit_resample(X_train1, y_train1)"
   ]
  },
  {
   "cell_type": "code",
   "execution_count": 106,
   "metadata": {
    "scrolled": true
   },
   "outputs": [
    {
     "data": {
      "text/plain": [
       "3    858\n",
       "2    858\n",
       "5    858\n",
       "1    858\n",
       "4    858\n",
       "0    858\n",
       "Name: Postop_Chemo_Regimen, dtype: int64"
      ]
     },
     "execution_count": 106,
     "metadata": {},
     "output_type": "execute_result"
    }
   ],
   "source": [
    "y_train_sm.value_counts()"
   ]
  },
  {
   "cell_type": "markdown",
   "metadata": {},
   "source": [
    "### 항암 x"
   ]
  },
  {
   "cell_type": "code",
   "execution_count": 87,
   "metadata": {},
   "outputs": [],
   "source": [
    "df0 = df[df['Postop_Chemo_Regimen'] == 0]"
   ]
  },
  {
   "cell_type": "code",
   "execution_count": 88,
   "metadata": {},
   "outputs": [],
   "source": [
    "target_col0 = 'Postop_Chemo_Regimen'\n",
    "target0 = df0[target_col]\n",
    "\n",
    "features0 = df0[['Age', 'Sex', 'ASA', 'BMI', 'DM_history', 'Pulmonary_disease', 'Liver_disease',\n",
    "            'Kidney_disease', \n",
    "              'Initial_CEA', 'Hereditary_colorectal_tumor', 'Obstruction', 'Emergency',\n",
    "               'pT', 'LVI', 'PNI','Postop_Chemotherapy',\n",
    "              'Distal resection margin', 'Radial margin', 'pN', 'pM',\n",
    "              'pTNM', 'K-ras', 'N-ras', 'BRAF', 'Early_Complication']]"
   ]
  },
  {
   "cell_type": "code",
   "execution_count": 89,
   "metadata": {},
   "outputs": [],
   "source": [
    "from sklearn.model_selection import train_test_split\n",
    "X_train0, X_test0, y_train0, y_test0 = train_test_split(\n",
    "    features0, target0, test_size = 0.2, random_state=0\n",
    ")"
   ]
  },
  {
   "cell_type": "code",
   "execution_count": 90,
   "metadata": {},
   "outputs": [],
   "source": [
    "from sklearn.metrics import accuracy_score, f1_score, precision_score, recall_score, classification_report"
   ]
  },
  {
   "cell_type": "code",
   "execution_count": 91,
   "metadata": {},
   "outputs": [],
   "source": [
    "from sklearn.ensemble import GradientBoostingClassifier"
   ]
  },
  {
   "cell_type": "code",
   "execution_count": 107,
   "metadata": {},
   "outputs": [],
   "source": [
    "X_train_fin = pd.concat([X_train_sm, X_train0])\n",
    "X_test_fin = pd.concat([X_test, X_test0])"
   ]
  },
  {
   "cell_type": "code",
   "execution_count": 108,
   "metadata": {},
   "outputs": [],
   "source": [
    "y_train_fin = pd.concat([y_train_sm, y_train0])\n",
    "y_test_fin = pd.concat([y_test, y_test0])"
   ]
  },
  {
   "cell_type": "code",
   "execution_count": 109,
   "metadata": {},
   "outputs": [],
   "source": [
    "y_train_fin = y_train_fin.astype('int')\n",
    "y_test_fin = y_test_fin.astype('int')"
   ]
  },
  {
   "cell_type": "markdown",
   "metadata": {},
   "source": [
    "### oversampling x"
   ]
  },
  {
   "cell_type": "code",
   "execution_count": 95,
   "metadata": {},
   "outputs": [],
   "source": [
    "target_col1 = 'Postop_Chemo_Regimen'\n",
    "target1 = df[target_col]\n",
    "\n",
    "features1 = df[['Age', 'Sex', 'ASA', 'BMI', 'DM_history', 'Pulmonary_disease', 'Liver_disease',\n",
    "            'Kidney_disease', \n",
    "              'Initial_CEA', 'Hereditary_colorectal_tumor', 'Obstruction', 'Emergency',\n",
    "               'pT', 'LVI', 'PNI','Postop_Chemotherapy',\n",
    "              'Distal resection margin', 'Radial margin', 'pN', 'pM',\n",
    "              'pTNM', 'K-ras', 'N-ras', 'BRAF', 'Early_Complication']]"
   ]
  },
  {
   "cell_type": "code",
   "execution_count": 96,
   "metadata": {},
   "outputs": [],
   "source": [
    "from sklearn.model_selection import train_test_split\n",
    "X_train1, X_test1, y_train1, y_test1 = train_test_split(\n",
    "    features1, target1, test_size = 0.3, random_state=0\n",
    ")"
   ]
  },
  {
   "cell_type": "code",
   "execution_count": 97,
   "metadata": {},
   "outputs": [],
   "source": [
    "y_train1 = y_train1.astype('int')\n",
    "y_test1 = y_test1.astype('int')"
   ]
  },
  {
   "cell_type": "code",
   "execution_count": 98,
   "metadata": {},
   "outputs": [
    {
     "name": "stdout",
     "output_type": "stream",
     "text": [
      "Precision :  0.5021221398226504\n",
      "Recall :  0.4574494891589369\n",
      "F1-Score :  0.4636634079075798\n",
      "Accuracy :  0.7987951807228916\n"
     ]
    }
   ],
   "source": [
    "from sklearn.ensemble import GradientBoostingClassifier\n",
    "from sklearn.metrics import accuracy_score, f1_score, precision_score, recall_score, classification_report\n",
    "\n",
    "gb = GradientBoostingClassifier(learning_rate = 0.081, random_state=0)\n",
    "gb.fit(X_train1, y_train1)\n",
    "\n",
    "y_pred = gb.predict(X_test1)\n",
    "\n",
    "print(\"Precision : \", precision_score(y_test1, y_pred,average='macro'))\n",
    "print(\"Recall : \", recall_score(y_test1, y_pred,average='macro'))\n",
    "print(\"F1-Score : \", f1_score(y_test1, y_pred,average='macro'))\n",
    "print(\"Accuracy : \", accuracy_score(y_test1, y_pred))"
   ]
  },
  {
   "cell_type": "code",
   "execution_count": null,
   "metadata": {},
   "outputs": [],
   "source": []
  },
  {
   "cell_type": "code",
   "execution_count": null,
   "metadata": {},
   "outputs": [],
   "source": []
  },
  {
   "cell_type": "code",
   "execution_count": null,
   "metadata": {},
   "outputs": [],
   "source": []
  },
  {
   "cell_type": "code",
   "execution_count": 110,
   "metadata": {},
   "outputs": [
    {
     "name": "stdout",
     "output_type": "stream",
     "text": [
      "Precision :  0.691004675594535\n",
      "Recall :  0.7335809744214915\n",
      "F1-Score :  0.7045050807651349\n",
      "Accuracy :  0.8339350180505415\n"
     ]
    }
   ],
   "source": [
    "from sklearn.ensemble import GradientBoostingClassifier\n",
    "from sklearn.metrics import accuracy_score, f1_score, precision_score, recall_score, classification_report\n",
    "\n",
    "gb = GradientBoostingClassifier(learning_rate = 0.081, random_state=0)\n",
    "gb.fit(X_train_fin, y_train_fin)\n",
    "\n",
    "y_pred = gb.predict(X_test_fin)\n",
    "\n",
    "print(\"Precision : \", precision_score(y_test_fin, y_pred,average='macro'))\n",
    "print(\"Recall : \", recall_score(y_test_fin, y_pred,average='macro'))\n",
    "print(\"F1-Score : \", f1_score(y_test_fin, y_pred,average='macro'))\n",
    "print(\"Accuracy : \", accuracy_score(y_test_fin, y_pred))"
   ]
  },
  {
   "cell_type": "code",
   "execution_count": 111,
   "metadata": {},
   "outputs": [],
   "source": [
    "from imblearn.over_sampling import ADASYN \n",
    "\n",
    "ada = ADASYN()\n",
    "X_res, y_res = ada.fit_resample(X_train1, y_train1)"
   ]
  },
  {
   "cell_type": "code",
   "execution_count": 112,
   "metadata": {},
   "outputs": [],
   "source": [
    "X_train_fin_ada = pd.concat([X_res, X_train0])\n",
    "X_test_fin_ada = pd.concat([X_test, X_test0])"
   ]
  },
  {
   "cell_type": "code",
   "execution_count": 113,
   "metadata": {},
   "outputs": [],
   "source": [
    "y_train_fin_ada = pd.concat([y_res, y_train0])\n",
    "y_test_fin_ada = pd.concat([y_test, y_test0])"
   ]
  },
  {
   "cell_type": "code",
   "execution_count": 114,
   "metadata": {},
   "outputs": [],
   "source": [
    "y_train_fin_ada = y_train_fin_ada.astype('int')\n",
    "y_test_fin_ada = y_test_fin_ada.astype('int')"
   ]
  },
  {
   "cell_type": "code",
   "execution_count": 115,
   "metadata": {},
   "outputs": [
    {
     "name": "stdout",
     "output_type": "stream",
     "text": [
      "Precision :  0.71599947561679\n",
      "Recall :  0.7388659193616091\n",
      "F1-Score :  0.7216173545218623\n",
      "Accuracy :  0.8429602888086642\n"
     ]
    }
   ],
   "source": [
    "from sklearn.ensemble import GradientBoostingClassifier\n",
    "from sklearn.metrics import accuracy_score, f1_score, precision_score, recall_score, classification_report\n",
    "\n",
    "gb = GradientBoostingClassifier(learning_rate = 0.081, random_state=0)\n",
    "gb.fit(X_train_fin_ada, y_train_fin_ada)\n",
    "\n",
    "y_pred = gb.predict(X_test_fin_ada)\n",
    "\n",
    "print(\"Precision : \", precision_score(y_test_fin_ada, y_pred,average='macro'))\n",
    "print(\"Recall : \", recall_score(y_test_fin_ada, y_pred,average='macro'))\n",
    "print(\"F1-Score : \", f1_score(y_test_fin_ada, y_pred,average='macro'))\n",
    "print(\"Accuracy : \", accuracy_score(y_test_fin_ada, y_pred))"
   ]
  },
  {
   "cell_type": "code",
   "execution_count": null,
   "metadata": {},
   "outputs": [],
   "source": []
  }
 ],
 "metadata": {
  "kernelspec": {
   "display_name": "Python 3",
   "language": "python",
   "name": "python3"
  },
  "language_info": {
   "codemirror_mode": {
    "name": "ipython",
    "version": 3
   },
   "file_extension": ".py",
   "mimetype": "text/x-python",
   "name": "python",
   "nbconvert_exporter": "python",
   "pygments_lexer": "ipython3",
   "version": "3.8.5"
  }
 },
 "nbformat": 4,
 "nbformat_minor": 4
}
